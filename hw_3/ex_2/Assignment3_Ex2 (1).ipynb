{
  "nbformat": 4,
  "nbformat_minor": 0,
  "metadata": {
    "colab": {
      "provenance": []
    },
    "kernelspec": {
      "name": "python3",
      "display_name": "Python 3"
    },
    "language_info": {
      "name": "python"
    },
    "accelerator": "GPU",
    "gpuClass": "standard"
  },
  "cells": [
    {
      "cell_type": "code",
      "execution_count": null,
      "metadata": {
        "colab": {
          "base_uri": "https://localhost:8080/"
        },
        "id": "Yx1Eos-ypL40",
        "outputId": "51b0f363-3af3-4493-bd1f-2e694fbfa9df"
      },
      "outputs": [
        {
          "output_type": "stream",
          "name": "stdout",
          "text": [
            "/usr/local/cuda:\n",
            "bin\t\t   EULA.txt  libnvvp\t       nvvm-prev  src\n",
            "compat\t\t   extras    nsightee_plugins  README\t  targets\n",
            "compute-sanitizer  include   nvml\t       samples\t  tools\n",
            "DOCS\t\t   lib64     nvvm\t       share\t  version.json\n",
            "\n",
            "/usr/local/cuda-11:\n",
            "bin\t\t   EULA.txt  libnvvp\t       nvvm-prev  src\n",
            "compat\t\t   extras    nsightee_plugins  README\t  targets\n",
            "compute-sanitizer  include   nvml\t       samples\t  tools\n",
            "DOCS\t\t   lib64     nvvm\t       share\t  version.json\n",
            "\n",
            "/usr/local/cuda-11.2:\n",
            "bin\t\t   EULA.txt  libnvvp\t       nvvm-prev  src\n",
            "compat\t\t   extras    nsightee_plugins  README\t  targets\n",
            "compute-sanitizer  include   nvml\t       samples\t  tools\n",
            "DOCS\t\t   lib64     nvvm\t       share\t  version.json\n"
          ]
        }
      ],
      "source": [
        "!ls /usr/local/cuda*"
      ]
    },
    {
      "cell_type": "code",
      "source": [
        "!nvidia-smi"
      ],
      "metadata": {
        "colab": {
          "base_uri": "https://localhost:8080/"
        },
        "id": "p7J5GR1ApVxu",
        "outputId": "2d723def-a08b-4110-bb0e-3cdd4a2e9138"
      },
      "execution_count": null,
      "outputs": [
        {
          "output_type": "stream",
          "name": "stdout",
          "text": [
            "Fri Dec 16 17:10:23 2022       \n",
            "+-----------------------------------------------------------------------------+\n",
            "| NVIDIA-SMI 460.32.03    Driver Version: 460.32.03    CUDA Version: 11.2     |\n",
            "|-------------------------------+----------------------+----------------------+\n",
            "| GPU  Name        Persistence-M| Bus-Id        Disp.A | Volatile Uncorr. ECC |\n",
            "| Fan  Temp  Perf  Pwr:Usage/Cap|         Memory-Usage | GPU-Util  Compute M. |\n",
            "|                               |                      |               MIG M. |\n",
            "|===============================+======================+======================|\n",
            "|   0  Tesla T4            Off  | 00000000:00:04.0 Off |                    0 |\n",
            "| N/A   56C    P0    28W /  70W |      0MiB / 15109MiB |      0%      Default |\n",
            "|                               |                      |                  N/A |\n",
            "+-------------------------------+----------------------+----------------------+\n",
            "                                                                               \n",
            "+-----------------------------------------------------------------------------+\n",
            "| Processes:                                                                  |\n",
            "|  GPU   GI   CI        PID   Type   Process name                  GPU Memory |\n",
            "|        ID   ID                                                   Usage      |\n",
            "|=============================================================================|\n",
            "|  No running processes found                                                 |\n",
            "+-----------------------------------------------------------------------------+\n"
          ]
        }
      ]
    },
    {
      "cell_type": "code",
      "source": [
        "%%writefile matrix.cu\n",
        "\n",
        "#include <stdio.h>\n",
        "#include <stdlib.h>\n",
        "#include <assert.h>\n",
        "#include <sys/time.h>\n",
        "\n",
        "#define BLOCK_SIZE 16\n",
        "\n",
        "double cpuSecond() {\n",
        "   struct timeval tp;\n",
        "   gettimeofday(&tp,NULL);\n",
        "   return ((double)tp.tv_sec + (double)tp.tv_usec*1.e-6);\n",
        "}\n",
        "\n",
        "\n",
        "__global__ void gpu_matrix_mult(int *a,int *b, int *c, int m, int n, int k)\n",
        "{ \n",
        "    int row = blockIdx.y * blockDim.y + threadIdx.y; \n",
        "    int col = blockIdx.x * blockDim.x + threadIdx.x;\n",
        "    int sum = 0;\n",
        "    if( col < k && row < m) \n",
        "    {\n",
        "        for(int i = 0; i < n; i++) \n",
        "        {\n",
        "            sum += a[row * n + i] * b[i * k + col];\n",
        "        }\n",
        "        c[row * k + col] = sum;\n",
        "    }\n",
        "} \n",
        "\n",
        "\n",
        "__global__ void gpu_square_matrix_mult(int *d_a, int *d_b, int *d_result, int n) \n",
        "{\n",
        "    __shared__ int tile_a[BLOCK_SIZE][BLOCK_SIZE];\n",
        "    __shared__ int tile_b[BLOCK_SIZE][BLOCK_SIZE];\n",
        "\n",
        "    int row = blockIdx.y * BLOCK_SIZE + threadIdx.y;\n",
        "    int col = blockIdx.x * BLOCK_SIZE + threadIdx.x;\n",
        "    int tmp = 0;\n",
        "    int idx;\n",
        "\n",
        "    for (int sub = 0; sub < gridDim.x; ++sub) \n",
        "    {\n",
        "        idx = row * n + sub * BLOCK_SIZE + threadIdx.x;\n",
        "        if(idx >= n*n)\n",
        "        {\n",
        "            // n may not divisible by BLOCK_SIZE\n",
        "            tile_a[threadIdx.y][threadIdx.x] = 0;\n",
        "        }\n",
        "        else\n",
        "        {\n",
        "            tile_a[threadIdx.y][threadIdx.x] = d_a[idx];\n",
        "        }\n",
        "\n",
        "        idx = (sub * BLOCK_SIZE + threadIdx.y) * n + col;\n",
        "        if(idx >= n*n)\n",
        "        {\n",
        "            tile_b[threadIdx.y][threadIdx.x] = 0;\n",
        "        }  \n",
        "        else\n",
        "        {\n",
        "            tile_b[threadIdx.y][threadIdx.x] = d_b[idx];\n",
        "        }\n",
        "        __syncthreads();\n",
        "\n",
        "        for (int k = 0; k < BLOCK_SIZE; ++k) \n",
        "        {\n",
        "            tmp += tile_a[threadIdx.y][k] * tile_b[k][threadIdx.x];\n",
        "        }\n",
        "        __syncthreads();\n",
        "    }\n",
        "    if(row < n && col < n)\n",
        "    {\n",
        "        d_result[row * n + col] = tmp;\n",
        "    }\n",
        "}\n",
        "\n",
        "\n",
        "__global__ void gpu_matrix_transpose(int* mat_in, int* mat_out, unsigned int rows, unsigned int cols) \n",
        "{\n",
        "    unsigned int idx = blockIdx.x * blockDim.x + threadIdx.x;\n",
        "    unsigned int idy = blockIdx.y * blockDim.y + threadIdx.y;\n",
        "\n",
        "    if (idx < cols && idy < rows) \n",
        "    {\n",
        "        unsigned int pos = idy * cols + idx;\n",
        "        unsigned int trans_pos = idx * rows + idy;\n",
        "        mat_out[trans_pos] = mat_in[pos];\n",
        "    }\n",
        "}\n",
        "\n",
        "void cpu_matrix_mult(int *h_a, int *h_b, int *h_result, int m, int n, int k) {\n",
        "    for (int i = 0; i < m; ++i) \n",
        "    {\n",
        "        for (int j = 0; j < k; ++j) \n",
        "        {\n",
        "            int tmp = 0.0;\n",
        "            for (int h = 0; h < n; ++h) \n",
        "            {\n",
        "                tmp += h_a[i * n + h] * h_b[h * k + j];\n",
        "            }\n",
        "            h_result[i * k + j] = tmp;\n",
        "        }\n",
        "    }\n",
        "}\n",
        "\n",
        "\n",
        "int main(int argc, char const *argv[])\n",
        "{\n",
        "    int m, n, k;\n",
        "    /* Fixed seed for illustration */\n",
        "    srand(3333);\n",
        "    printf(\"please type in m n and k\\n\");\n",
        "    scanf(\"%d %d %d\", &m, &n, &k);\n",
        "\n",
        "    // allocate memory in host RAM, h_cc is used to store CPU result\n",
        "    int *h_a, *h_b, *h_c, *h_cc;\n",
        "    cudaMallocHost((void **) &h_a, sizeof(int)*m*n);\n",
        "    cudaMallocHost((void **) &h_b, sizeof(int)*n*k);\n",
        "    cudaMallocHost((void **) &h_c, sizeof(int)*m*k);\n",
        "    cudaMallocHost((void **) &h_cc, sizeof(int)*m*k);\n",
        "\n",
        "    // random initialize matrix A\n",
        "    for (int i = 0; i < m; ++i) {\n",
        "        for (int j = 0; j < n; ++j) {\n",
        "            h_a[i * n + j] = rand() % 1024;\n",
        "        }\n",
        "    }\n",
        "\n",
        "    // random initialize matrix B\n",
        "    for (int i = 0; i < n; ++i) {\n",
        "        for (int j = 0; j < k; ++j) {\n",
        "            h_b[i * k + j] = rand() % 1024;\n",
        "        }\n",
        "    }\n",
        "\n",
        "    float gpu_elapsed_time_ms, cpu_elapsed_time_ms;\n",
        "\n",
        "    // some events to count the execution time\n",
        "    cudaEvent_t start, stop;\n",
        "    cudaEventCreate(&start);\n",
        "    cudaEventCreate(&stop);\n",
        "\n",
        "    // start to count execution time of GPU version\n",
        "    cudaEventRecord(start, 0);\n",
        "    // Allocate memory space on the device \n",
        "    int *d_a, *d_b, *d_c;\n",
        "    cudaMalloc((void **) &d_a, sizeof(int)*m*n);\n",
        "    cudaMalloc((void **) &d_b, sizeof(int)*n*k);\n",
        "    cudaMalloc((void **) &d_c, sizeof(int)*m*k);\n",
        "\n",
        "    // copy matrix A and B from host to device memory\n",
        "    // TIME THIS\n",
        "    double hTdTime = cpuSecond();\n",
        "    cudaMemcpy(d_a, h_a, sizeof(int)*m*n, cudaMemcpyHostToDevice);\n",
        "    cudaMemcpy(d_b, h_b, sizeof(int)*n*k, cudaMemcpyHostToDevice);\n",
        "    cudaDeviceSynchronize();\n",
        "    double hTdTimeElaplsed = cpuSecond() - hTdTime;\n",
        "\n",
        "    unsigned int grid_rows = (m + BLOCK_SIZE - 1) / BLOCK_SIZE;\n",
        "    unsigned int grid_cols = (k + BLOCK_SIZE - 1) / BLOCK_SIZE;\n",
        "    dim3 dimGrid(grid_cols, grid_rows);\n",
        "    dim3 dimBlock(BLOCK_SIZE, BLOCK_SIZE);\n",
        "   \n",
        "    // Launch kernel \n",
        "    //TIME THIS\n",
        "    double kernelTime = cpuSecond();\n",
        "    if(m == n && n == k)\n",
        "    {\n",
        "        gpu_square_matrix_mult<<<dimGrid, dimBlock>>>(d_a, d_b, d_c, n);    \n",
        "    }\n",
        "    else\n",
        "    {\n",
        "        gpu_matrix_mult<<<dimGrid, dimBlock>>>(d_a, d_b, d_c, m, n, k);    \n",
        "    }\n",
        "    cudaDeviceSynchronize();\n",
        "    double kernelTimeElaplsed = cpuSecond() - kernelTime;\n",
        "\n",
        "    // Transefr results from device to host \n",
        "    //TIME THIS\n",
        "    double dThTime = cpuSecond();\n",
        "    cudaMemcpy(h_c, d_c, sizeof(int)*m*k, cudaMemcpyDeviceToHost);\n",
        "    cudaDeviceSynchronize();\n",
        "    double dThTimeElaplsed = cpuSecond() - dThTime;\n",
        "\n",
        "    cudaThreadSynchronize();\n",
        "    // time counting terminate\n",
        "    cudaEventRecord(stop, 0);\n",
        "    cudaEventSynchronize(stop);\n",
        "\n",
        "    // compute time elapse on GPU computing\n",
        "    cudaEventElapsedTime(&gpu_elapsed_time_ms, start, stop);\n",
        "    printf(\"Time elapsed on matrix multiplication of %dx%d . %dx%d on GPU: %f ms.\\n\\n\", m, n, n, k, gpu_elapsed_time_ms);\n",
        "\n",
        "    // start the CPU version\n",
        "    cudaEventRecord(start, 0);\n",
        "\n",
        "    cpu_matrix_mult(h_a, h_b, h_cc, m, n, k);\n",
        "\n",
        "    cudaEventRecord(stop, 0);\n",
        "    cudaEventSynchronize(stop);\n",
        "    cudaEventElapsedTime(&cpu_elapsed_time_ms, start, stop);\n",
        "    printf(\"Time elapsed on matrix multiplication of %dx%d . %dx%d on CPU: %f ms.\\n\\n\", m, n, n, k, cpu_elapsed_time_ms);\n",
        "\n",
        "    // validate results computed by GPU\n",
        "    int all_ok = 1;\n",
        "    for (int i = 0; i < m; ++i)\n",
        "    {\n",
        "        for (int j = 0; j < k; ++j)\n",
        "        {\n",
        "            //printf(\"[%d][%d]:%d == [%d][%d]:%d, \", i, j, h_cc[i*k + j], i, j, h_c[i*k + j]);\n",
        "            if(h_cc[i*k + j] != h_c[i*k + j])\n",
        "            {\n",
        "                all_ok = 0;\n",
        "            }\n",
        "        }\n",
        "        //printf(\"\\n\");\n",
        "    }\n",
        "\n",
        "    // roughly compute speedup\n",
        "    if(all_ok)\n",
        "    {\n",
        "        printf(\"all results are correct!!!, speedup = %f\\n\", cpu_elapsed_time_ms / gpu_elapsed_time_ms);\n",
        "    }\n",
        "    else\n",
        "    {\n",
        "        printf(\"incorrect results\\n\");\n",
        "    }\n",
        "\n",
        "    printf(\"Host to Device: %f\\n\", hTdTimeElaplsed);\n",
        "    printf(\"Kernel: %f\\n\", kernelTimeElaplsed);\n",
        "    printf(\"Device to Host: %f\\n\", dThTimeElaplsed);\n",
        "\n",
        "    // free memory\n",
        "    cudaFree(d_a);\n",
        "    cudaFree(d_b);\n",
        "    cudaFree(d_c);\n",
        "    cudaFreeHost(h_a);\n",
        "    cudaFreeHost(h_b);\n",
        "    cudaFreeHost(h_c);\n",
        "    cudaFreeHost(h_cc);\n",
        "    return 0;\n",
        "}\n",
        "\n"
      ],
      "metadata": {
        "colab": {
          "base_uri": "https://localhost:8080/"
        },
        "id": "TAwWEDH_qYCz",
        "outputId": "daf66bb6-91cf-4ba5-de24-0824b3b97441"
      },
      "execution_count": null,
      "outputs": [
        {
          "output_type": "stream",
          "name": "stdout",
          "text": [
            "Overwriting matrix.cu\n"
          ]
        }
      ]
    },
    {
      "cell_type": "code",
      "source": [
        "!nvcc matrix.cu -o matrix"
      ],
      "metadata": {
        "colab": {
          "base_uri": "https://localhost:8080/"
        },
        "id": "S35iQCcXq2GO",
        "outputId": "69d1099f-2134-4869-a12d-8515c0238059"
      },
      "execution_count": null,
      "outputs": [
        {
          "output_type": "stream",
          "name": "stdout",
          "text": [
            "\u001b[01m\u001b[Kmatrix.cu:\u001b[m\u001b[K In function ‘\u001b[01m\u001b[Kint main(int, const char**)\u001b[m\u001b[K’:\n",
            "\u001b[01m\u001b[Kmatrix.cu:258:23:\u001b[m\u001b[K \u001b[01;35m\u001b[Kwarning: \u001b[m\u001b[K‘\u001b[01m\u001b[KcudaError_t cudaThreadSynchronize()\u001b[m\u001b[K’ is deprecated [\u001b[01;35m\u001b[K-Wdeprecated-declarations\u001b[m\u001b[K]\n",
            "     cudaThreadSynchron\u001b[01;35m\u001b[Ki\u001b[m\u001b[Kze();\n",
            "                       \u001b[01;35m\u001b[K^\u001b[m\u001b[K\n",
            "\u001b[01m\u001b[K/usr/local/cuda/bin/../targets/x86_64-linux/include/cuda_runtime_api.h:1011:46:\u001b[m\u001b[K \u001b[01;36m\u001b[Knote: \u001b[m\u001b[Kdeclared here\n",
            " extern __CUDA_DEPRECATED __host__ cudaError_t\u001b[01;36m\u001b[K CUDARTAPI cudaThread\u001b[m\u001b[KSynchronize(void);\n",
            "                                              \u001b[01;36m\u001b[K^~~~~~~~~~~~~~~~~~~~~\u001b[m\u001b[K\n"
          ]
        }
      ]
    },
    {
      "cell_type": "code",
      "source": [
        "!./matrix"
      ],
      "metadata": {
        "colab": {
          "base_uri": "https://localhost:8080/"
        },
        "id": "N7siBWi1rYs-",
        "outputId": "0ef2cd44-5366-433a-8b5e-58108981e9ca"
      },
      "execution_count": null,
      "outputs": [
        {
          "output_type": "stream",
          "name": "stdout",
          "text": [
            "please type in m n and k\n",
            "1050 1060 1050\n",
            "Time elapsed on matrix multiplication of 1050x1060 . 1060x1050 on GPU: 11.244896 ms.\n",
            "\n",
            "Time elapsed on matrix multiplication of 1050x1060 . 1060x1050 on CPU: 5862.668457 ms.\n",
            "\n",
            "all results are correct!!!, speedup = 521.362610\n",
            "Host to Device: 0.000759\n",
            "Kernel: 0.009699\n",
            "Device to Host: 0.000349\n"
          ]
        }
      ]
    },
    {
      "cell_type": "code",
      "source": [
        "!/usr/local/cuda-11/bin/nv-nsight-cu-cli --metrics \tsm__warps_active.avg.pct_of_peak_sustained_active matrix"
      ],
      "metadata": {
        "colab": {
          "base_uri": "https://localhost:8080/"
        },
        "id": "8slz68wIwx73",
        "outputId": "1de58570-ed9e-4abf-fa57-c7487d5637d4"
      },
      "execution_count": null,
      "outputs": [
        {
          "output_type": "stream",
          "name": "stdout",
          "text": [
            "please type in m n and k\n",
            "511 1023 4094\n",
            "==PROF== Connected to process 513 (/content/matrix)\n",
            "==PROF== Profiling \"gpu_matrix_mult\" - 1: 0%....50%....100% - 1 pass\n",
            "Time elapsed on matrix multiplication of 511x1023 . 1023x4094 on GPU: 278.681122 ms.\n",
            "\n",
            "Time elapsed on matrix multiplication of 511x1023 . 1023x4094 on CPU: 14554.444336 ms.\n",
            "\n",
            "all results are correct!!!, speedup = 52.226158\n",
            "Host to Device: 0.001603\n",
            "Kernel: 0.001603\n",
            "Device to Host: 0.000801\n",
            "==PROF== Disconnected from process 513\n",
            "[513] matrix@127.0.0.1\n",
            "  gpu_matrix_mult(int*, int*, int*, int, int, int), 2022-Dec-16 17:51:37, Context 1, Stream 7\n",
            "    Section: Command line profiler metrics\n",
            "    ---------------------------------------------------------------------- --------------- ------------------------------\n",
            "    sm__warps_active.avg.pct_of_peak_sustained_active                                    %                          98.38\n",
            "    ---------------------------------------------------------------------- --------------- ------------------------------\n",
            "\n"
          ]
        }
      ]
    },
    {
      "cell_type": "code",
      "source": [
        "# Size = 1024 1024 1024\n",
        "# Host to Device: 0.000714\n",
        "# Kernel: 0.005817\n",
        "# Device to Host: 0.000330\n",
        "\n",
        "# Size = 1050 1050 1050\n",
        "# Host to Device: 0.000754\n",
        "# Kernel: 0.006478\n",
        "# Device to Host: 0.000350\n",
        "\n",
        "# Size = 1050 1060 1050\n",
        "# Host to Device: 0.001603\n",
        "# Kernel: 0.001603\n",
        "# Device to Host: 0.000801\n",
        "\n",
        "import matplotlib.pyplot as plt\n",
        "\n",
        "# Data for the bar chart\n",
        "x = ['A', 'B', 'C']\n",
        "y1 = [0.000714,0.000754,0.001603]\n",
        "y2 = [0.005817,0.006478,0.001603]\n",
        "y3 = [0.000330,0.000350, 0.000801]\n",
        "\n",
        "# Create the figure and the axis\n",
        "\n",
        "\n",
        "# Add the data to the plot\n",
        "plt.bar(x, y1, label=\"Host to Device\")\n",
        "plt.bar(x, y2, label=\"kernel\")\n",
        "plt.bar(x, y3, label=\"Device to Host\")\n",
        "\n",
        "# Add labels and title\n",
        "# plt.set_xlabel(\"Vector size\")\n",
        "# plt.set_ylabel(\"Time taken\")\n",
        "# plt.set_title(\"Time taken based on Vector size\")\n",
        "plt.legend()\n",
        "\n",
        "# Show the plot\n",
        "plt.show()\n"
      ],
      "metadata": {
        "colab": {
          "base_uri": "https://localhost:8080/",
          "height": 265
        },
        "id": "VN3COPeDDJxn",
        "outputId": "b556bdde-a387-4441-e9dc-9610441b6bf0"
      },
      "execution_count": null,
      "outputs": [
        {
          "output_type": "display_data",
          "data": {
            "text/plain": [
              "<Figure size 432x288 with 1 Axes>"
            ],
            "image/png": "[encoded data removed]"
          },
          "metadata": {
            "needs_background": "light"
          }
        }
      ]
    }
  ]
}
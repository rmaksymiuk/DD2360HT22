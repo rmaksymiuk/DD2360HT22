{
  "nbformat": 4,
  "nbformat_minor": 0,
  "metadata": {
    "colab": {
      "provenance": []
    },
    "kernelspec": {
      "name": "python3",
      "display_name": "Python 3"
    },
    "language_info": {
      "name": "python"
    },
    "accelerator": "GPU",
    "gpuClass": "standard"
  },
  "cells": [
    {
      "cell_type": "code",
      "execution_count": null,
      "metadata": {
        "colab": {
          "base_uri": "https://localhost:8080/"
        },
        "id": "cIRohPehNgfO",
        "outputId": "fb30a4a1-5d30-4eb1-e752-e03dc1bc8141"
      },
      "outputs": [
        {
          "output_type": "stream",
          "name": "stdout",
          "text": [
            "/usr/local/cuda:\n",
            "bin\t\t   EULA.txt  libnvvp\t       nvvm-prev  src\n",
            "compat\t\t   extras    nsightee_plugins  README\t  targets\n",
            "compute-sanitizer  include   nvml\t       samples\t  tools\n",
            "DOCS\t\t   lib64     nvvm\t       share\t  version.json\n",
            "\n",
            "/usr/local/cuda-11:\n",
            "bin\t\t   EULA.txt  libnvvp\t       nvvm-prev  src\n",
            "compat\t\t   extras    nsightee_plugins  README\t  targets\n",
            "compute-sanitizer  include   nvml\t       samples\t  tools\n",
            "DOCS\t\t   lib64     nvvm\t       share\t  version.json\n",
            "\n",
            "/usr/local/cuda-11.2:\n",
            "bin\t\t   EULA.txt  libnvvp\t       nvvm-prev  src\n",
            "compat\t\t   extras    nsightee_plugins  README\t  targets\n",
            "compute-sanitizer  include   nvml\t       samples\t  tools\n",
            "DOCS\t\t   lib64     nvvm\t       share\t  version.json\n"
          ]
        }
      ],
      "source": [
        "!ls /usr/local/cuda*"
      ]
    },
    {
      "cell_type": "code",
      "source": [
        "!nvidia-smi"
      ],
      "metadata": {
        "colab": {
          "base_uri": "https://localhost:8080/"
        },
        "id": "mx9K4mNcNnnJ",
        "outputId": "dcd47976-e194-4f4a-a559-28e6e8957332"
      },
      "execution_count": null,
      "outputs": [
        {
          "output_type": "stream",
          "name": "stdout",
          "text": [
            "Fri Dec 16 22:09:58 2022       \n",
            "+-----------------------------------------------------------------------------+\n",
            "| NVIDIA-SMI 460.32.03    Driver Version: 460.32.03    CUDA Version: 11.2     |\n",
            "|-------------------------------+----------------------+----------------------+\n",
            "| GPU  Name        Persistence-M| Bus-Id        Disp.A | Volatile Uncorr. ECC |\n",
            "| Fan  Temp  Perf  Pwr:Usage/Cap|         Memory-Usage | GPU-Util  Compute M. |\n",
            "|                               |                      |               MIG M. |\n",
            "|===============================+======================+======================|\n",
            "|   0  Tesla T4            Off  | 00000000:00:04.0 Off |                    0 |\n",
            "| N/A   43C    P0    27W /  70W |      0MiB / 15109MiB |      0%      Default |\n",
            "|                               |                      |                  N/A |\n",
            "+-------------------------------+----------------------+----------------------+\n",
            "                                                                               \n",
            "+-----------------------------------------------------------------------------+\n",
            "| Processes:                                                                  |\n",
            "|  GPU   GI   CI        PID   Type   Process name                  GPU Memory |\n",
            "|        ID   ID                                                   Usage      |\n",
            "|=============================================================================|\n",
            "|  No running processes found                                                 |\n",
            "+-----------------------------------------------------------------------------+\n"
          ]
        }
      ]
    },
    {
      "cell_type": "code",
      "source": [
        "%%writefile histo.cu\n",
        "\n",
        "#include<math.h>\n",
        "#include <stdio.h>\n",
        "#include<time.h>\n",
        "#include <iostream>\n",
        "#include <sys/time.h>\n",
        "#include <stdlib.h>\n",
        "#include \"cuda_runtime.h\"\n",
        "#include \"device_launch_parameters.h\"\n",
        "#include \"device_functions.h\"\n",
        "using namespace std;\n",
        "\n",
        "#define BLOCK_SIZE 512\n",
        "#define NUM_BINS 4096\n",
        "#define MAX_VAL 127\n",
        "#define PRIVATE 4096\n",
        "\n",
        "double cpuSecond() {\n",
        "   struct timeval tp;\n",
        "   gettimeofday(&tp,NULL);\n",
        "   return ((double)tp.tv_sec + (double)tp.tv_usec*1.e-6);\n",
        "}\n",
        "\n",
        "// histogramCPU computes the histogram of an input array on the CPU\n",
        "void histogramCPU(unsigned int* input, unsigned int* bins, unsigned int numElems) {\n",
        "    for (int i=0; i<numElems; i++) {\n",
        "        if (bins[input[i]] < MAX_VAL) {\n",
        "            bins[input[i]]++;\n",
        "        }\n",
        "    }\n",
        "}\n",
        "\n",
        "// histogramGPU computes the histogram of an input array on the GPU\n",
        "__global__ void histogramGPU(unsigned int* input, unsigned int* bins, unsigned int numElems) {\n",
        "    int tx = threadIdx.x; int bx = blockIdx.x;\n",
        "\n",
        "    // compute global thread coordinates\n",
        "    int i = (bx * blockDim.x) + tx;\n",
        "\n",
        "    // create a private histogram copy for each thread block\n",
        "    __shared__ unsigned int hist[PRIVATE];\n",
        "\n",
        "    // each thread must initialize more than 1 location\n",
        "    if (PRIVATE > BLOCK_SIZE) {\n",
        "        for (int j=tx; j<PRIVATE; j+=BLOCK_SIZE) {\n",
        "            if (j < PRIVATE) {\n",
        "                hist[j] = 0;\n",
        "            }\n",
        "        }\n",
        "    }\n",
        "    // use the first `PRIVATE` threads of each block to init\n",
        "    else {\n",
        "        if (tx < PRIVATE) {\n",
        "            hist[tx] = 0;\n",
        "        }\n",
        "    }\n",
        "    // wait for all threads in the block to finish\n",
        "    __syncthreads();\n",
        "\n",
        "    // update private histogram\n",
        "    if (i < numElems) {\n",
        "        atomicAdd(&(hist[input[i]]), 1);\n",
        "    }\n",
        "    // wait for all threads in the block to finish\n",
        "    __syncthreads();\n",
        "\n",
        "    // each thread must update more than 1 location\n",
        "    if (PRIVATE > BLOCK_SIZE) {\n",
        "        for (int j=tx; j<PRIVATE; j+=BLOCK_SIZE) {\n",
        "            if (j < PRIVATE) {\n",
        "                atomicAdd(&(bins[j]), hist[j]);\n",
        "            }\n",
        "        }\n",
        "    }\n",
        "    // use the first `PRIVATE` threads to update final histogram\n",
        "    else {\n",
        "        if (tx < PRIVATE) {\n",
        "            atomicAdd(&(bins[tx]), hist[tx]);\n",
        "        }\n",
        "    }\n",
        "}\n",
        "\n",
        "// saturateGPU caps the bin frequencies to a maximum value of 127\n",
        "__global__ void saturateGPU(unsigned int* bins, unsigned int numBins) {\n",
        "    // global thread coordinates\n",
        "    int i = (blockIdx.x * blockDim.x) + threadIdx.x;\n",
        "\n",
        "    if (i < numBins) {\n",
        "        if (bins[i] > MAX_VAL) {\n",
        "            bins[i] = MAX_VAL;\n",
        "        }\n",
        "    }\n",
        "}\n",
        "\n",
        "int main(void) {\n",
        "    // timers\n",
        "    double timer1, timer2, timer3, timer4;\n",
        "\n",
        "    // data params\n",
        "    int inputLength;\n",
        "    unsigned int* hostBins_CPU;\n",
        "    unsigned int* hostInput; unsigned int* hostBins;\n",
        "    unsigned int* deviceInput; unsigned int* deviceBins;\n",
        "\n",
        "    // ask the user to enter the length of the input vector\n",
        "    printf(\"Please enter the length of the input array\\n\");\n",
        "    scanf(\"%d\", &inputLength);\n",
        "\n",
        "    // determine\n",
        "    size_t histoSize = NUM_BINS * sizeof(unsigned int);\n",
        "    size_t inSize = inputLength * sizeof(unsigned int);\n",
        "\n",
        "    // allocate host memory\n",
        "    hostInput = (unsigned int*)malloc(inSize);\n",
        "    hostBins = (unsigned int*)malloc(histoSize);\n",
        "    hostBins_CPU = (unsigned int*)malloc(histoSize);\n",
        "\n",
        "    // randomly initialize input array\n",
        "    srand(clock());\n",
        "    for (int i=0; i<inputLength; i++) {\n",
        "        hostInput[i] = int((float)rand()*(NUM_BINS-1)/float(RAND_MAX));\n",
        "    }\n",
        "    // for (int i=0; i<inputLength; i++) {\n",
        "    //     printf(\"%d, \", hostInput[i]);\n",
        "    // }\n",
        "    // printf(\"\\n\");\n",
        "\n",
        "    // allocate device memory\n",
        "    cudaMalloc((void**)&deviceInput, inSize);\n",
        "    cudaMalloc((void**)&deviceBins, histoSize);\n",
        "    cudaMemset(deviceBins, 0, histoSize);\n",
        "\n",
        "\n",
        "    // host2device transfer\n",
        "    timer1 = cpuSecond();\n",
        "    cudaMemcpy(deviceInput, hostInput, inSize, cudaMemcpyHostToDevice);\n",
        "    cudaDeviceSynchronize();\n",
        "    double d_t1 = cpuSecond() - timer1;\n",
        "    printf(\"Time to copy the input array from the host to the device is: %f sec.\\n\", d_t1);\n",
        "\n",
        "    // kernel launch\n",
        "    dim3 threadPerBlock(BLOCK_SIZE, 1, 1);\n",
        "    dim3 blockPerGrid(ceil(inputLength/(float)BLOCK_SIZE), 1, 1);\n",
        "    timer2 = cpuSecond();\n",
        "    histogramGPU<<<blockPerGrid, threadPerBlock>>>(deviceInput, deviceBins, inputLength);\n",
        "    cudaDeviceSynchronize();\n",
        "    double d_t2 = cpuSecond() - timer2;\n",
        "    printf(\"Implemented CUDA code for basic histogram calculation ran in: %f secs.\\n\", d_t2);\n",
        "\n",
        "    // saturate the bins\n",
        "    threadPerBlock.x = BLOCK_SIZE;\n",
        "    blockPerGrid.x = ceil(NUM_BINS/(float)BLOCK_SIZE);\n",
        "    timer3 = cpuSecond();\n",
        "    saturateGPU<<<blockPerGrid, threadPerBlock>>>(deviceBins, NUM_BINS);\n",
        "    cudaDeviceSynchronize();\n",
        "    double d_t3 = cpuSecond() - timer3;\n",
        "    printf(\"Implemented CUDA code for output saturation ran in: %f secs.\\n\", d_t3);\n",
        "\n",
        "    // device2host transfer\n",
        "    timer4 = cpuSecond();\n",
        "    cudaMemcpy(hostBins, deviceBins, histoSize, cudaMemcpyDeviceToHost);\n",
        "    double d_t4 = cpuSecond() - timer4;\n",
        "    printf(\"Time to copy the resulting Histogram from the device to the host is: %f secs.\\n\", d_t4);\n",
        "\n",
        "    // initialize CPU histogram array to 0\n",
        "    for (int i=0; i<NUM_BINS; i++) {\n",
        "        hostBins_CPU[i] = 0;\n",
        "    }\n",
        "\n",
        "    // run the CPU version\n",
        "    clock_t begin = clock();\n",
        "    histogramCPU(hostInput, hostBins_CPU, inputLength);\n",
        "    clock_t end = clock();\n",
        "\n",
        "    // printf(\"CPU: \\n\");\n",
        "    // for (int i=0; i<NUM_BINS; i++) {\n",
        "    //     printf(\"%d, \", hostBins_CPU[i]);\n",
        "    // }\n",
        "    // printf(\"\\n\");\n",
        "    // printf(\"GPU: \\n\");\n",
        "    // for (int i=0; i<NUM_BINS; i++) {\n",
        "    //     printf(\"%d, \", hostBins[i]);\n",
        "    // }\n",
        "\n",
        "    // calculate total time for CPU and GPU\n",
        "    double time_spent = (double)(end - begin) / CLOCKS_PER_SEC*1000;\n",
        "    double total_device_time = d_t1 + d_t2 + d_t3 + d_t4;\n",
        "    float speedup = (float)time_spent / total_device_time;\n",
        "    printf(\"Total CPU code ran in: %f msecs.\\n\", time_spent);\n",
        "    printf(\"Total GPU code ran in: %f secs.\\n\", total_device_time);\n",
        "    printf(\"GPU Speedup: %f\\n\", speedup);\n",
        "\n",
        "\n",
        "  \n",
        "    // release resources\n",
        "    free(hostBins); free(hostBins_CPU); free(hostInput);\n",
        "    cudaFree(deviceInput); cudaFree(deviceBins);\n",
        "\n",
        "    return 0;\n",
        "}"
      ],
      "metadata": {
        "colab": {
          "base_uri": "https://localhost:8080/"
        },
        "id": "Hl1YMiAZNp0z",
        "outputId": "ec59de98-1adf-4ea8-852d-f1968248b2ca"
      },
      "execution_count": null,
      "outputs": [
        {
          "output_type": "stream",
          "name": "stdout",
          "text": [
            "Overwriting histo.cu\n"
          ]
        }
      ]
    },
    {
      "cell_type": "code",
      "source": [
        "!nvcc histo.cu -o histo"
      ],
      "metadata": {
        "colab": {
          "base_uri": "https://localhost:8080/"
        },
        "id": "2C48vIULVTWr",
        "outputId": "df1b06ea-838d-4f61-db82-4eba6dded6f1"
      },
      "execution_count": null,
      "outputs": [
        {
          "output_type": "stream",
          "name": "stdout",
          "text": [
            "In file included from \u001b[01m\u001b[Khisto.cu:10:0\u001b[m\u001b[K:\n",
            "\u001b[01m\u001b[K/usr/local/cuda/bin/../targets/x86_64-linux/include/device_functions.h:54:2:\u001b[m\u001b[K \u001b[01;35m\u001b[Kwarning: \u001b[m\u001b[K#warning \"device_functions.h is an internal header file and must not be used directly.  This file will be removed in a future CUDA release.  Please use cuda_runtime_api.h or cuda_runtime.h instead.\" [\u001b[01;35m\u001b[K-Wcpp\u001b[m\u001b[K]\n",
            " #\u001b[01;35m\u001b[Kwarning\u001b[m\u001b[K \"device_functions.h is an internal header file and must not be used directly.  This file will be removed in a future CUDA release.  Please use cuda_runtime_api.h or cuda_runtime.h instead.\"\n",
            "  \u001b[01;35m\u001b[K^~~~~~~\u001b[m\u001b[K\n",
            "In file included from \u001b[01m\u001b[Khisto.cu:10:0\u001b[m\u001b[K:\n",
            "\u001b[01m\u001b[K/usr/local/cuda/bin/../targets/x86_64-linux/include/device_functions.h:54:2:\u001b[m\u001b[K \u001b[01;35m\u001b[Kwarning: \u001b[m\u001b[K#warning \"device_functions.h is an internal header file and must not be used directly.  This file will be removed in a future CUDA release.  Please use cuda_runtime_api.h or cuda_runtime.h instead.\" [\u001b[01;35m\u001b[K-Wcpp\u001b[m\u001b[K]\n",
            " #\u001b[01;35m\u001b[Kwarning\u001b[m\u001b[K \"device_functions.h is an internal header file and must not be used directly.  This file will be removed in a future CUDA release.  Please use cuda_runtime_api.h or cuda_runtime.h instead.\"\n",
            "  \u001b[01;35m\u001b[K^~~~~~~\u001b[m\u001b[K\n"
          ]
        }
      ]
    },
    {
      "cell_type": "code",
      "source": [
        "!/usr/local/cuda-11/bin/nv-nsight-cu-cli --metrics \tsm__warps_active.avg.pct_of_peak_sustained_active histo"
      ],
      "metadata": {
        "colab": {
          "base_uri": "https://localhost:8080/"
        },
        "id": "XZkwys6jVWFt",
        "outputId": "201ce046-7a8c-466f-b563-751f6c74d166"
      },
      "execution_count": null,
      "outputs": [
        {
          "output_type": "stream",
          "name": "stdout",
          "text": [
            "Please enter the length of the input array\n",
            "10\n",
            "==PROF== Connected to process 234 (/content/histo)\n",
            "Time to copy the input array from the host to the device is: 0.000027 sec.\n",
            "==PROF== Profiling \"histogramGPU\" - 1: 0%....50%....100% - 1 pass\n",
            "Implemented CUDA code for basic histogram calculation ran in: 0.374919 secs.\n",
            "==PROF== Profiling \"saturateGPU\" - 2: 0%....50%....100% - 1 pass\n",
            "Implemented CUDA code for output saturation ran in: 0.030095 secs.\n",
            "Time to copy the resulting Histogram from the device to the host is: 0.000051 secs.\n",
            "Total CPU code ran in: 0.001000 msecs.\n",
            "Total GPU code ran in: 0.405092 secs.\n",
            "GPU Speedup: 0.002469\n",
            "==PROF== Disconnected from process 234\n",
            "[234] histo@127.0.0.1\n",
            "  histogramGPU(unsigned int*, unsigned int*, unsigned int), 2022-Dec-16 22:19:02, Context 1, Stream 7\n",
            "    Section: Command line profiler metrics\n",
            "    ---------------------------------------------------------------------- --------------- ------------------------------\n",
            "    sm__warps_active.avg.pct_of_peak_sustained_active                                    %                          48.19\n",
            "    ---------------------------------------------------------------------- --------------- ------------------------------\n",
            "\n",
            "  saturateGPU(unsigned int*, unsigned int), 2022-Dec-16 22:19:03, Context 1, Stream 7\n",
            "    Section: Command line profiler metrics\n",
            "    ---------------------------------------------------------------------- --------------- ------------------------------\n",
            "    sm__warps_active.avg.pct_of_peak_sustained_active                                    %                          48.39\n",
            "    ---------------------------------------------------------------------- --------------- ------------------------------\n",
            "\n"
          ]
        }
      ]
    },
    {
      "cell_type": "code",
      "source": [
        "!/usr/local/cuda-11/bin/nv-nsight-cu-cli histo"
      ],
      "metadata": {
        "colab": {
          "base_uri": "https://localhost:8080/"
        },
        "id": "ovDUH9QABTeV",
        "outputId": "66ede60e-ce8c-4e61-c26f-7d12ba9cb576"
      },
      "execution_count": null,
      "outputs": [
        {
          "output_type": "stream",
          "name": "stdout",
          "text": [
            "Please enter the length of the input array\n",
            "10\n",
            "==PROF== Connected to process 273 (/content/histo)\n",
            "Time to copy the input array from the host to the device is: 0.000025 sec.\n",
            "==PROF== Profiling \"histogramGPU\" - 1: 0%....50%....100% - 8 passes\n",
            "Implemented CUDA code for basic histogram calculation ran in: 0.649337 secs.\n",
            "==PROF== Profiling \"saturateGPU\" - 2: 0%....50%....100% - 8 passes\n",
            "Implemented CUDA code for output saturation ran in: 0.409598 secs.\n",
            "Time to copy the resulting Histogram from the device to the host is: 0.000059 secs.\n",
            "Total CPU code ran in: 0.001000 msecs.\n",
            "Total GPU code ran in: 1.059019 secs.\n",
            "GPU Speedup: 0.000944\n",
            "==PROF== Disconnected from process 273\n",
            "[273] histo@127.0.0.1\n",
            "  histogramGPU(unsigned int*, unsigned int*, unsigned int), 2022-Dec-16 22:19:56, Context 1, Stream 7\n",
            "    Section: GPU Speed Of Light\n",
            "    ---------------------------------------------------------------------- --------------- ------------------------------\n",
            "    DRAM Frequency                                                           cycle/nsecond                           4.86\n",
            "    SM Frequency                                                             cycle/usecond                         569.18\n",
            "    Elapsed Cycles                                                                   cycle                          3,480\n",
            "    Memory [%]                                                                           %                           1.26\n",
            "    SOL DRAM                                                                             %                           1.26\n",
            "    Duration                                                                       usecond                           6.11\n",
            "    SOL L1/TEX Cache                                                                     %                          41.09\n",
            "    SOL L2 Cache                                                                         %                           0.60\n",
            "    SM Active Cycles                                                                 cycle                          56.70\n",
            "    SM [%]                                                                               %                           0.67\n",
            "    ---------------------------------------------------------------------- --------------- ------------------------------\n",
            "    WRN   This kernel grid is too small to fill the available resources on this device, resulting in only 0.0 full      \n",
            "          waves across all SMs. Look at Launch Statistics for more details.                                             \n",
            "\n",
            "    Section: Launch Statistics\n",
            "    ---------------------------------------------------------------------- --------------- ------------------------------\n",
            "    Block Size                                                                                                        512\n",
            "    Function Cache Configuration                                                                  cudaFuncCachePreferNone\n",
            "    Grid Size                                                                                                           1\n",
            "    Registers Per Thread                                                   register/thread                             16\n",
            "    Shared Memory Configuration Size                                                 Kbyte                          32.77\n",
            "    Driver Shared Memory Per Block                                              byte/block                              0\n",
            "    Dynamic Shared Memory Per Block                                             byte/block                              0\n",
            "    Static Shared Memory Per Block                                             Kbyte/block                          16.38\n",
            "    Threads                                                                         thread                            512\n",
            "    Waves Per SM                                                                                                     0.01\n",
            "    ---------------------------------------------------------------------- --------------- ------------------------------\n",
            "    WRN   The grid for this launch is configured to execute only 1 blocks, which is less than the GPU's 40              \n",
            "          multiprocessors. This can underutilize some multiprocessors. If you do not intend to execute this kernel      \n",
            "          concurrently with other workloads, consider reducing the block size to have at least one block per            \n",
            "          multiprocessor or increase the size of the grid to fully utilize the available hardware resources.            \n",
            "\n",
            "    Section: Occupancy\n",
            "    ---------------------------------------------------------------------- --------------- ------------------------------\n",
            "    Block Limit SM                                                                   block                             16\n",
            "    Block Limit Registers                                                            block                              8\n",
            "    Block Limit Shared Mem                                                           block                              4\n",
            "    Block Limit Warps                                                                block                              2\n",
            "    Theoretical Active Warps per SM                                                   warp                             32\n",
            "    Theoretical Occupancy                                                                %                            100\n",
            "    Achieved Occupancy                                                                   %                          47.67\n",
            "    Achieved Active Warps Per SM                                                      warp                          15.26\n",
            "    ---------------------------------------------------------------------- --------------- ------------------------------\n",
            "\n",
            "  saturateGPU(unsigned int*, unsigned int), 2022-Dec-16 22:19:57, Context 1, Stream 7\n",
            "    Section: GPU Speed Of Light\n",
            "    ---------------------------------------------------------------------- --------------- ------------------------------\n",
            "    DRAM Frequency                                                           cycle/nsecond                           4.83\n",
            "    SM Frequency                                                             cycle/usecond                         564.66\n",
            "    Elapsed Cycles                                                                   cycle                          2,097\n",
            "    Memory [%]                                                                           %                           1.76\n",
            "    SOL DRAM                                                                             %                           1.76\n",
            "    Duration                                                                       usecond                           3.71\n",
            "    SOL L1/TEX Cache                                                                     %                           6.82\n",
            "    SOL L2 Cache                                                                         %                           1.15\n",
            "    SM Active Cycles                                                                 cycle                         187.80\n",
            "    SM [%]                                                                               %                           0.61\n",
            "    ---------------------------------------------------------------------- --------------- ------------------------------\n",
            "    WRN   This kernel grid is too small to fill the available resources on this device, resulting in only 0.1 full      \n",
            "          waves across all SMs. Look at Launch Statistics for more details.                                             \n",
            "\n",
            "    Section: Launch Statistics\n",
            "    ---------------------------------------------------------------------- --------------- ------------------------------\n",
            "    Block Size                                                                                                        512\n",
            "    Function Cache Configuration                                                                  cudaFuncCachePreferNone\n",
            "    Grid Size                                                                                                           8\n",
            "    Registers Per Thread                                                   register/thread                             16\n",
            "    Shared Memory Configuration Size                                                 Kbyte                          32.77\n",
            "    Driver Shared Memory Per Block                                              byte/block                              0\n",
            "    Dynamic Shared Memory Per Block                                             byte/block                              0\n",
            "    Static Shared Memory Per Block                                              byte/block                              0\n",
            "    Threads                                                                         thread                          4,096\n",
            "    Waves Per SM                                                                                                     0.10\n",
            "    ---------------------------------------------------------------------- --------------- ------------------------------\n",
            "    WRN   The grid for this launch is configured to execute only 8 blocks, which is less than the GPU's 40              \n",
            "          multiprocessors. This can underutilize some multiprocessors. If you do not intend to execute this kernel      \n",
            "          concurrently with other workloads, consider reducing the block size to have at least one block per            \n",
            "          multiprocessor or increase the size of the grid to fully utilize the available hardware resources.            \n",
            "\n",
            "    Section: Occupancy\n",
            "    ---------------------------------------------------------------------- --------------- ------------------------------\n",
            "    Block Limit SM                                                                   block                             16\n",
            "    Block Limit Registers                                                            block                              8\n",
            "    Block Limit Shared Mem                                                           block                             16\n",
            "    Block Limit Warps                                                                block                              2\n",
            "    Theoretical Active Warps per SM                                                   warp                             32\n",
            "    Theoretical Occupancy                                                                %                            100\n",
            "    Achieved Occupancy                                                                   %                          47.88\n",
            "    Achieved Active Warps Per SM                                                      warp                          15.32\n",
            "    ---------------------------------------------------------------------- --------------- ------------------------------\n",
            "\n"
          ]
        }
      ]
    },
    {
      "cell_type": "code",
      "source": [
        "import matplotlib.pyplot as plt\n",
        "import numpy as np\n",
        "\n",
        "data = []\n",
        "binsData = np.arange(0,4096)\n",
        "\n",
        "with open(\"output\", 'r') as file:\n",
        "  for line in file:\n",
        "    data.append(int(line))\n",
        "\n",
        "ig, ax = plt.subplots(figsize =(10, 7))\n",
        "ax.hist(data)\n",
        "\n",
        "plt.show()\n",
        "\n",
        "\n"
      ],
      "metadata": {
        "colab": {
          "base_uri": "https://localhost:8080/",
          "height": 428
        },
        "id": "8Nl0MM_Xl-cU",
        "outputId": "319a215e-3caf-4306-ae20-4fccbcfa3991"
      },
      "execution_count": null,
      "outputs": [
        {
          "output_type": "display_data",
          "data": {
            "text/plain": [
              "<Figure size 720x504 with 1 Axes>"
            ],
            "image/png": "[encoded data removed]"
          },
          "metadata": {
            "needs_background": "light"
          }
        }
      ]
    }
  ]
}
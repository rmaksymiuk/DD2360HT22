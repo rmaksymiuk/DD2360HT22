{
  "nbformat": 4,
  "nbformat_minor": 0,
  "metadata": {
    "colab": {
      "provenance": []
    },
    "kernelspec": {
      "name": "python3",
      "display_name": "Python 3"
    },
    "language_info": {
      "name": "python"
    },
    "accelerator": "GPU",
    "gpuClass": "standard"
  },
  "cells": [
    {
      "cell_type": "code",
      "execution_count": 1,
      "metadata": {
        "colab": {
          "base_uri": "https://localhost:8080/"
        },
        "id": "zOAXpTTHewJA",
        "outputId": "43710777-9ebe-45bd-b88a-e8142d7f2182"
      },
      "outputs": [
        {
          "output_type": "stream",
          "name": "stdout",
          "text": [
            "/usr/local/cuda:\n",
            "bin\t\t   EULA.txt  libnvvp\t       nvvm-prev  src\n",
            "compat\t\t   extras    nsightee_plugins  README\t  targets\n",
            "compute-sanitizer  include   nvml\t       samples\t  tools\n",
            "DOCS\t\t   lib64     nvvm\t       share\t  version.json\n",
            "\n",
            "/usr/local/cuda-11:\n",
            "bin\t\t   EULA.txt  libnvvp\t       nvvm-prev  src\n",
            "compat\t\t   extras    nsightee_plugins  README\t  targets\n",
            "compute-sanitizer  include   nvml\t       samples\t  tools\n",
            "DOCS\t\t   lib64     nvvm\t       share\t  version.json\n",
            "\n",
            "/usr/local/cuda-11.2:\n",
            "bin\t\t   EULA.txt  libnvvp\t       nvvm-prev  src\n",
            "compat\t\t   extras    nsightee_plugins  README\t  targets\n",
            "compute-sanitizer  include   nvml\t       samples\t  tools\n",
            "DOCS\t\t   lib64     nvvm\t       share\t  version.json\n"
          ]
        }
      ],
      "source": [
        "!ls /usr/local/cuda*"
      ]
    },
    {
      "cell_type": "code",
      "source": [
        "!nvidia-smi"
      ],
      "metadata": {
        "colab": {
          "base_uri": "https://localhost:8080/"
        },
        "id": "UKAiR7zbfAWG",
        "outputId": "5e1816bf-dd24-45d2-c421-e00683aab839"
      },
      "execution_count": 2,
      "outputs": [
        {
          "output_type": "stream",
          "name": "stdout",
          "text": [
            "Fri Dec 16 15:10:02 2022       \n",
            "+-----------------------------------------------------------------------------+\n",
            "| NVIDIA-SMI 460.32.03    Driver Version: 460.32.03    CUDA Version: 11.2     |\n",
            "|-------------------------------+----------------------+----------------------+\n",
            "| GPU  Name        Persistence-M| Bus-Id        Disp.A | Volatile Uncorr. ECC |\n",
            "| Fan  Temp  Perf  Pwr:Usage/Cap|         Memory-Usage | GPU-Util  Compute M. |\n",
            "|                               |                      |               MIG M. |\n",
            "|===============================+======================+======================|\n",
            "|   0  Tesla T4            Off  | 00000000:00:04.0 Off |                    0 |\n",
            "| N/A   59C    P0    28W /  70W |      0MiB / 15109MiB |      0%      Default |\n",
            "|                               |                      |                  N/A |\n",
            "+-------------------------------+----------------------+----------------------+\n",
            "                                                                               \n",
            "+-----------------------------------------------------------------------------+\n",
            "| Processes:                                                                  |\n",
            "|  GPU   GI   CI        PID   Type   Process name                  GPU Memory |\n",
            "|        ID   ID                                                   Usage      |\n",
            "|=============================================================================|\n",
            "|  No running processes found                                                 |\n",
            "+-----------------------------------------------------------------------------+\n"
          ]
        }
      ]
    },
    {
      "cell_type": "code",
      "source": [
        "!/usr/local/cuda-11/bin/nv-nsight-cu-cli ../../bin/x86_64/linux/release/simpleOccupancy"
      ],
      "metadata": {
        "colab": {
          "base_uri": "https://localhost:8080/"
        },
        "id": "5tVgwxKVtsF-",
        "outputId": "2fc617a2-95f1-46a3-ceda-1b5387145b2b"
      },
      "execution_count": 5,
      "outputs": [
        {
          "output_type": "stream",
          "name": "stdout",
          "text": [
            "==ERROR== '../../bin/x86_64/linux/release/simpleOccupancy' does not exist or is not an executable. Please make sure to specify the absolute path to '../../bin/x86_64/linux/release/simpleOccupancy' if the executable is not in the local directory.\n"
          ]
        }
      ]
    },
    {
      "cell_type": "code",
      "source": [
        "%%writefile vectorAdd.cu\n",
        "\n",
        "\n",
        "#include <stdio.h>\n",
        "#include <stdlib.h>\n",
        "#include <math.h>\n",
        "#include <sys/time.h>\n",
        " \n",
        "// CUDA kernel. Each thread takes care of one element of c\n",
        "__global__ void vecAdd(double *a, double *b, double *c, int n)\n",
        "{\n",
        "    // Get our global thread ID\n",
        "    int id = blockIdx.x*blockDim.x+threadIdx.x;\n",
        " \n",
        "    // Make sure we do not go out of bounds\n",
        "    if (id < n)\n",
        "        c[id] = a[id] + b[id];\n",
        "}\n",
        "\n",
        "double cpuSecond() {\n",
        "   struct timeval tp;\n",
        "   gettimeofday(&tp,NULL);\n",
        "   return ((double)tp.tv_sec + (double)tp.tv_usec*1.e-6);\n",
        "}\n",
        " \n",
        "int main( int argc, char* argv[] )\n",
        "{\n",
        "    // Size of vectors\n",
        "    int n = 1024;\n",
        " \n",
        "    // Host input vectors\n",
        "    double *h_a;\n",
        "    double *h_b;\n",
        "    //Host output vector\n",
        "    double *h_c;\n",
        " \n",
        "    // Device input vectors\n",
        "    double *d_a;\n",
        "    double *d_b;\n",
        "    //Device output vector\n",
        "    double *d_c;\n",
        " \n",
        "    // Size, in bytes, of each vector\n",
        "    size_t bytes = n*sizeof(double);\n",
        " \n",
        "    // Allocate memory for each vector on host\n",
        "    h_a = (double*)malloc(bytes);\n",
        "    h_b = (double*)malloc(bytes);\n",
        "    h_c = (double*)malloc(bytes);\n",
        " \n",
        "    // Allocate memory for each vector on GPU\n",
        "    cudaMalloc(&d_a, bytes);\n",
        "    cudaMalloc(&d_b, bytes);\n",
        "    cudaMalloc(&d_c, bytes);\n",
        " \n",
        "    int i;\n",
        "    // Initialize vectors on host\n",
        "    for( i = 0; i < n; i++ ) {\n",
        "        h_a[i] = sin(i)*sin(i);\n",
        "        h_b[i] = cos(i)*cos(i);\n",
        "    }\n",
        " \n",
        "    // Copy host vectors to device\n",
        "    //TIME THIS\n",
        "    double hTdTime = cpuSecond();\n",
        "    cudaMemcpy( d_a, h_a, bytes, cudaMemcpyHostToDevice);\n",
        "    cudaMemcpy( d_b, h_b, bytes, cudaMemcpyHostToDevice);\n",
        "    cudaDeviceSynchronize();\n",
        "    double hTdTimeElapsed = cpuSecond() - hTdTime;\n",
        " \n",
        "    int blockSize, gridSize;\n",
        " \n",
        "    // Number of threads in each thread block\n",
        "    blockSize = 1024;\n",
        " \n",
        "    // Number of thread blocks in grid\n",
        "    gridSize = (int)ceil((float)n/blockSize);\n",
        " \n",
        "    // Execute the kernel\n",
        "    //TIME THIS\n",
        "    double kernelTime = cpuSecond();\n",
        "    vecAdd<<<gridSize, blockSize>>>(d_a, d_b, d_c, n);\n",
        "    cudaDeviceSynchronize();\n",
        "    double kernelTimeElapsed = cpuSecond() - kernelTime;\n",
        "\n",
        "    // Copy array back to host\n",
        "    //TIME THIS\n",
        "    double dThTime = cpuSecond();\n",
        "    cudaMemcpy( h_c, d_c, bytes, cudaMemcpyDeviceToHost );\n",
        "    cudaDeviceSynchronize();\n",
        "    double dThTimeElapsed = cpuSecond() - dThTime;\n",
        " \n",
        "    // Sum up vector c and print result divided by n, this should equal 1 within error\n",
        "    double sum = 0;\n",
        "    for(i=0; i<n; i++)\n",
        "        sum += h_c[i];\n",
        "    printf(\"final result: %f\\n\", sum/n);\n",
        " \n",
        "    // Release device memory\n",
        "    cudaFree(d_a);\n",
        "    cudaFree(d_b);\n",
        "    cudaFree(d_c);\n",
        " \n",
        "    // Release host memory\n",
        "    free(h_a);\n",
        "    free(h_b);\n",
        "    free(h_c);\n",
        "\n",
        "\n",
        "    printf(\"Host to Device: %f\\n\", hTdTimeElapsed);\n",
        "    printf(\"Kernel: %f\\n\", kernelTimeElapsed);\n",
        "    printf(\"Device to Host: %f\\n\", dThTimeElapsed);\n",
        " \n",
        "    return 0;\n",
        "}\n"
      ],
      "metadata": {
        "colab": {
          "base_uri": "https://localhost:8080/"
        },
        "id": "zb9t-xfsfTAn",
        "outputId": "6300a39f-d1c5-4007-cf4e-3b5b29552785"
      },
      "execution_count": 34,
      "outputs": [
        {
          "output_type": "stream",
          "name": "stdout",
          "text": [
            "Overwriting vectorAdd.cu\n"
          ]
        }
      ]
    },
    {
      "cell_type": "code",
      "source": [
        "!nvcc vectorAdd.cu -o vectorAdd"
      ],
      "metadata": {
        "id": "IL9hXoTwXT7x"
      },
      "execution_count": 23,
      "outputs": []
    },
    {
      "cell_type": "code",
      "source": [
        "!./vectorAdd"
      ],
      "metadata": {
        "colab": {
          "base_uri": "https://localhost:8080/"
        },
        "id": "3EPsYf9ZXvzH",
        "outputId": "30286bce-b502-49dc-f201-81ccdfb1aeae"
      },
      "execution_count": 24,
      "outputs": [
        {
          "output_type": "stream",
          "name": "stdout",
          "text": [
            "final result: 1.000000\n",
            "Host to Device: 0.003475\n",
            "Kernel: 0.000113\n",
            "Device to Host: 0.005172\n"
          ]
        }
      ]
    },
    {
      "cell_type": "code",
      "source": [
        "!/usr/local/cuda-11/bin/nv-nsight-cu-cli vectorAdd"
      ],
      "metadata": {
        "colab": {
          "base_uri": "https://localhost:8080/"
        },
        "id": "VpOlY7SFajoR",
        "outputId": "0202b30c-31db-4303-b899-43c4e7576117"
      },
      "execution_count": 6,
      "outputs": [
        {
          "output_type": "stream",
          "name": "stdout",
          "text": [
            "==PROF== Connected to process 178 (/content/vectorAdd)\n",
            "==PROF== Profiling \"vecAdd\" - 1: 0%....50%....100% - 8 passes\n",
            "final result: 1.000000\n",
            "==PROF== Disconnected from process 178\n",
            "[178] vectorAdd@127.0.0.1\n",
            "  vecAdd(double*, double*, double*, int), 2022-Dec-15 17:42:27, Context 1, Stream 7\n",
            "    Section: GPU Speed Of Light\n",
            "    ---------------------------------------------------------------------- --------------- ------------------------------\n",
            "    DRAM Frequency                                                           cycle/nsecond                           5.13\n",
            "    SM Frequency                                                             cycle/usecond                         600.21\n",
            "    Elapsed Cycles                                                                   cycle                          8,434\n",
            "    Memory [%]                                                                           %                          50.56\n",
            "    SOL DRAM                                                                             %                          50.56\n",
            "    Duration                                                                       usecond                          14.05\n",
            "    SOL L1/TEX Cache                                                                     %                          27.12\n",
            "    SOL L2 Cache                                                                         %                          25.18\n",
            "    SM Active Cycles                                                                 cycle                       6,041.20\n",
            "    SM [%]                                                                               %                          19.43\n",
            "    ---------------------------------------------------------------------- --------------- ------------------------------\n",
            "    WRN   This kernel exhibits low compute throughput and memory bandwidth utilization relative to the peak performance \n",
            "          of this device. Achieved compute throughput and/or memory bandwidth below 60.0% of peak typically indicate    \n",
            "          latency issues. Look at Scheduler Statistics and Warp State Statistics for potential reasons.                 \n",
            "\n",
            "    Section: Launch Statistics\n",
            "    ---------------------------------------------------------------------- --------------- ------------------------------\n",
            "    Block Size                                                                                                      1,024\n",
            "    Function Cache Configuration                                                                  cudaFuncCachePreferNone\n",
            "    Grid Size                                                                                                         128\n",
            "    Registers Per Thread                                                   register/thread                             16\n",
            "    Shared Memory Configuration Size                                                 Kbyte                          32.77\n",
            "    Driver Shared Memory Per Block                                              byte/block                              0\n",
            "    Dynamic Shared Memory Per Block                                             byte/block                              0\n",
            "    Static Shared Memory Per Block                                              byte/block                              0\n",
            "    Threads                                                                         thread                        131,072\n",
            "    Waves Per SM                                                                                                     3.20\n",
            "    ---------------------------------------------------------------------- --------------- ------------------------------\n",
            "    WRN   A wave of thread blocks is defined as the maximum number of blocks that can be executed in parallel on the    \n",
            "          target GPU. The number of blocks in a wave depends on the number of multiprocessors and the theoretical       \n",
            "          occupancy of the kernel. This kernel launch results in 3 full waves and a partial wave of 8 thread blocks.    \n",
            "          Under the assumption of a uniform execution duration of all thread blocks, the partial wave may account for   \n",
            "          up to 25.0% of the total kernel runtime with a lower occupancy of 22.1%. Try launching a grid with no         \n",
            "          partial wave. The overall impact of this tail effect also lessens with the number of full waves executed for  \n",
            "          a grid.                                                                                                       \n",
            "\n",
            "    Section: Occupancy\n",
            "    ---------------------------------------------------------------------- --------------- ------------------------------\n",
            "    Block Limit SM                                                                   block                             16\n",
            "    Block Limit Registers                                                            block                              4\n",
            "    Block Limit Shared Mem                                                           block                             16\n",
            "    Block Limit Warps                                                                block                              1\n",
            "    Theoretical Active Warps per SM                                                   warp                             32\n",
            "    Theoretical Occupancy                                                                %                            100\n",
            "    Achieved Occupancy                                                                   %                          77.87\n",
            "    Achieved Active Warps Per SM                                                      warp                          24.92\n",
            "    ---------------------------------------------------------------------- --------------- ------------------------------\n",
            "\n"
          ]
        }
      ]
    },
    {
      "cell_type": "code",
      "source": [
        "#Graphing\n",
        "\n",
        "#storing the data\n",
        "#Size = 131070:\n",
        "  # Host to Device: 0.000641\n",
        "  # Kernel: 0.000043\n",
        "  # Device to Host: 0.000798\n",
        "\n",
        "#Size = 200000:\n",
        "  # Host to Device: 0.000768\n",
        "  # Kernel: 0.000064\n",
        "  # Device to Host: 0.001162\n",
        "\n",
        "#Size = 50000:\n",
        "  # Host to Device: 0.000272\n",
        "  # Kernel: 0.000028\n",
        "  # Device to Host: 0.000342\n",
        "\n",
        "#Size = 1024:\n",
        "  # Host to Device: 0.000034\n",
        "  # Kernel: 0.000049\n",
        "  # Device to Host: 0.000023\n",
        "\n",
        "#Size = 500000:\n",
        "  # Host to Device: 0.001810\n",
        "  # Kernel: 0.000066\n",
        "  # Device to Host: 0.002822\n",
        "\n",
        "#Size = 1000000:\n",
        "  # Host to Device: 0.003475\n",
        "  # Kernel: 0.000113\n",
        "  # Device to Host: 0.005172\n",
        "\n",
        "\n",
        "import matplotlib.pyplot as plt\n",
        "\n",
        "# Data for the bar chart\n",
        "x = ['131070', '200000', '50000', '1024', '500000', '1000000']\n",
        "y1 = [0.000641, 0.000768, 0.000272, 0.000034, 0.001810, 0.003475]\n",
        "y2 = [0.000043, 0.000064, 0.000028, 0.000049, 0.000066, 0.000113]\n",
        "y3 = [0.000798, 0.001162, 0.000342, 0.000023, 0.002822, 0.005172]\n",
        "\n",
        "# Create the figure and the axis\n",
        "\n",
        "\n",
        "# Add the data to the plot\n",
        "plt.bar(x, y1, label=\"Host to Device\")\n",
        "plt.bar(x, y2, label=\"kernel\")\n",
        "plt.bar(x, y3, label=\"Device to Host\")\n",
        "\n",
        "# Add labels and title\n",
        "# plt.set_xlabel(\"Vector size\")\n",
        "# plt.set_ylabel(\"Time taken\")\n",
        "# plt.set_title(\"Time taken based on Vector size\")\n",
        "plt.legend()\n",
        "\n",
        "# Show the plot\n",
        "plt.show()\n"
      ],
      "metadata": {
        "colab": {
          "base_uri": "https://localhost:8080/",
          "height": 265
        },
        "id": "SpfkEmNIh_s4",
        "outputId": "cb23b463-28aa-4d23-f347-67b863ce18ff"
      },
      "execution_count": 33,
      "outputs": [
        {
          "output_type": "display_data",
          "data": {
            "text/plain": [
              "<Figure size 432x288 with 1 Axes>"
            ],
            "image/png": "[encoded data removed]"
          },
          "metadata": {
            "needs_background": "light"
          }
        }
      ]
    }
  ]
}
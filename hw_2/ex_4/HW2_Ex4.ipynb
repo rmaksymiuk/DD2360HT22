{
  "nbformat": 4,
  "nbformat_minor": 0,
  "metadata": {
    "colab": {
      "provenance": []
    },
    "kernelspec": {
      "name": "python3",
      "display_name": "Python 3"
    },
    "language_info": {
      "name": "python"
    },
    "accelerator": "GPU",
    "gpuClass": "standard"
  },
  "cells": [
    {
      "cell_type": "code",
      "execution_count": 1,
      "metadata": {
        "colab": {
          "base_uri": "https://localhost:8080/"
        },
        "id": "tXzWxFUhdav0",
        "outputId": "6343816c-18d7-4be8-e0c7-05a17c148ee2"
      },
      "outputs": [
        {
          "output_type": "stream",
          "name": "stdout",
          "text": [
            "/usr/local/cuda:\n",
            "bin\t\t   EULA.txt  libnvvp\t       nvvm-prev  src\n",
            "compat\t\t   extras    nsightee_plugins  README\t  targets\n",
            "compute-sanitizer  include   nvml\t       samples\t  tools\n",
            "DOCS\t\t   lib64     nvvm\t       share\t  version.json\n",
            "\n",
            "/usr/local/cuda-11:\n",
            "bin\t\t   EULA.txt  libnvvp\t       nvvm-prev  src\n",
            "compat\t\t   extras    nsightee_plugins  README\t  targets\n",
            "compute-sanitizer  include   nvml\t       samples\t  tools\n",
            "DOCS\t\t   lib64     nvvm\t       share\t  version.json\n",
            "\n",
            "/usr/local/cuda-11.2:\n",
            "bin\t\t   EULA.txt  libnvvp\t       nvvm-prev  src\n",
            "compat\t\t   extras    nsightee_plugins  README\t  targets\n",
            "compute-sanitizer  include   nvml\t       samples\t  tools\n",
            "DOCS\t\t   lib64     nvvm\t       share\t  version.json\n"
          ]
        }
      ],
      "source": [
        "!ls /usr/local/cuda*"
      ]
    },
    {
      "cell_type": "code",
      "source": [
        "!nvidia-smi"
      ],
      "metadata": {
        "colab": {
          "base_uri": "https://localhost:8080/"
        },
        "id": "zed1clahdnAL",
        "outputId": "e56f836c-62cf-42f8-c7cd-f5b71707fe7c"
      },
      "execution_count": 2,
      "outputs": [
        {
          "output_type": "stream",
          "name": "stdout",
          "text": [
            "Tue Nov 29 08:17:42 2022       \n",
            "+-----------------------------------------------------------------------------+\n",
            "| NVIDIA-SMI 460.32.03    Driver Version: 460.32.03    CUDA Version: 11.2     |\n",
            "|-------------------------------+----------------------+----------------------+\n",
            "| GPU  Name        Persistence-M| Bus-Id        Disp.A | Volatile Uncorr. ECC |\n",
            "| Fan  Temp  Perf  Pwr:Usage/Cap|         Memory-Usage | GPU-Util  Compute M. |\n",
            "|                               |                      |               MIG M. |\n",
            "|===============================+======================+======================|\n",
            "|   0  Tesla T4            Off  | 00000000:00:04.0 Off |                    0 |\n",
            "| N/A   59C    P8    10W /  70W |      0MiB / 15109MiB |      0%      Default |\n",
            "|                               |                      |                  N/A |\n",
            "+-------------------------------+----------------------+----------------------+\n",
            "                                                                               \n",
            "+-----------------------------------------------------------------------------+\n",
            "| Processes:                                                                  |\n",
            "|  GPU   GI   CI        PID   Type   Process name                  GPU Memory |\n",
            "|        ID   ID                                                   Usage      |\n",
            "|=============================================================================|\n",
            "|  No running processes found                                                 |\n",
            "+-----------------------------------------------------------------------------+\n"
          ]
        }
      ]
    },
    {
      "cell_type": "code",
      "source": [
        "!git clone https://github.com/rmaksymiuk/rodinia-gpu"
      ],
      "metadata": {
        "colab": {
          "base_uri": "https://localhost:8080/"
        },
        "id": "mXZsNacDd9Hl",
        "outputId": "f7fe25dc-287e-4e38-c343-5d7167186c76"
      },
      "execution_count": 3,
      "outputs": [
        {
          "output_type": "stream",
          "name": "stdout",
          "text": [
            "Cloning into 'rodinia-gpu'...\n",
            "remote: Enumerating objects: 2140, done.\u001b[K\n",
            "remote: Counting objects: 100% (77/77), done.\u001b[K\n",
            "remote: Compressing objects: 100% (57/57), done.\u001b[K\n",
            "remote: Total 2140 (delta 16), reused 75 (delta 14), pack-reused 2063\u001b[K\n",
            "Receiving objects: 100% (2140/2140), 64.00 MiB | 13.86 MiB/s, done.\n",
            "Resolving deltas: 100% (1007/1007), done.\n",
            "Checking out files: 100% (1394/1394), done.\n"
          ]
        }
      ]
    },
    {
      "cell_type": "markdown",
      "source": [
        "Application: k-Nearest \n",
        "Neighbors Dwarf: Dense Linear Algebra"
      ],
      "metadata": {
        "id": "-gBN1Xg_eJOR"
      }
    },
    {
      "cell_type": "code",
      "source": [
        "%cd /content/rodinia-gpu/cuda/nn\n",
        "!make nn\n",
        "!./nn filelist_4 -r 3 -lat 30 -lng 90"
      ],
      "metadata": {
        "colab": {
          "base_uri": "https://localhost:8080/"
        },
        "id": "e_3gB0KneTEe",
        "outputId": "7ead5b24-2ca4-4018-9195-cc23144c520f"
      },
      "execution_count": 5,
      "outputs": [
        {
          "output_type": "stream",
          "name": "stdout",
          "text": [
            "/content/rodinia-gpu/cuda/nn\n",
            "make: 'nn' is up to date.\n",
            "1988 12 27  0 18 TONY       30.0  89.8  113   39 --> Distance=0.199997\n",
            "1980 10 22 18  3 ISAAC      30.1  90.4  110  778 --> Distance=0.412312\n",
            "1997 11 14 12 24 HELENE     30.5  89.8  134  529 --> Distance=0.538515\n"
          ]
        }
      ]
    },
    {
      "cell_type": "code",
      "source": [
        "!nvprof --print-gpu-trace ./nn filelist_4 -r 3 -lat 30 -lng 90"
      ],
      "metadata": {
        "colab": {
          "base_uri": "https://localhost:8080/"
        },
        "id": "RlAzpcQliFWT",
        "outputId": "d87faddf-66fa-4917-dbf2-7caac1320b85"
      },
      "execution_count": 6,
      "outputs": [
        {
          "output_type": "stream",
          "name": "stdout",
          "text": [
            "==416== NVPROF is profiling process 416, command: ./nn filelist_4 -r 3 -lat 30 -lng 90\n",
            "1988 12 27  0 18 TONY       30.0  89.8  113   39 --> Distance=0.199997\n",
            "1980 10 22 18  3 ISAAC      30.1  90.4  110  778 --> Distance=0.412312\n",
            "1997 11 14 12 24 HELENE     30.5  89.8  134  529 --> Distance=0.538515\n",
            "==416== Profiling application: ./nn filelist_4 -r 3 -lat 30 -lng 90\n",
            "==416== Profiling result:\n",
            "   Start  Duration            Grid Size      Block Size     Regs*    SSMem*    DSMem*      Size  Throughput  SrcMemType  DstMemType           Device   Context    Stream  Name\n",
            "484.37ms  31.135us                    -               -         -         -         -  334.09KB  10.233GB/s    Pageable      Device     Tesla T4 (0)         1         7  [CUDA memcpy HtoD]\n",
            "484.41ms  6.4320us            (168 1 1)       (256 1 1)        16        0B        0B         -           -           -           -     Tesla T4 (0)         1         7  euclid(latLong*, float*, int, float, float) [118]\n",
            "484.44ms  15.168us                    -               -         -         -         -  167.05KB  10.503GB/s      Device    Pageable     Tesla T4 (0)         1         7  [CUDA memcpy DtoH]\n",
            "\n",
            "Regs: Number of registers used per CUDA thread. This number includes registers used internally by the CUDA driver and/or tools and can be more than what the compiler shows.\n",
            "SSMem: Static shared memory allocated per CUDA block.\n",
            "DSMem: Dynamic shared memory allocated per CUDA block.\n",
            "SrcMemType: The type of source memory accessed by memory operation/copy\n",
            "DstMemType: The type of destination memory accessed by memory operation/copy\n"
          ]
        }
      ]
    },
    {
      "cell_type": "code",
      "source": [
        "%cd /content/rodinia-gpu/openmp/nn\n",
        "!make nn\n",
        "!./nn filelist_4 3 30 90"
      ],
      "metadata": {
        "colab": {
          "base_uri": "https://localhost:8080/"
        },
        "id": "GZeWzIiriLOi",
        "outputId": "9d62b0a7-7956-4026-b434-0955702eab8b"
      },
      "execution_count": 7,
      "outputs": [
        {
          "output_type": "stream",
          "name": "stdout",
          "text": [
            "/content/rodinia-gpu/openmp/nn\n",
            "make: 'nn' is up to date.\n",
            "The 3 nearest neighbors are:\n",
            "1980 10 22 18  3 ISAAC      30.1  90.4  110  778 --> 0.412312\n",
            "1997 11 14 12 24 HELENE     30.5  89.8  134  529 --> 0.538515\n",
            "1988 12 27  0 18 TONY       30.0  89.8  113   39 --> 0.199997\n",
            "total time :  0.042224001139 s"
          ]
        }
      ]
    },
    {
      "cell_type": "code",
      "source": [
        "%cd /content/rodinia-gpu/cuda/bfs\n",
        "!make\n",
        "!nvprof --profile-child-processes ./run"
      ],
      "metadata": {
        "colab": {
          "base_uri": "https://localhost:8080/"
        },
        "id": "_4LdrxWiida0",
        "outputId": "1f02fa7c-7bf2-4e42-b062-4913b8e020d1"
      },
      "execution_count": 29,
      "outputs": [
        {
          "output_type": "stream",
          "name": "stdout",
          "text": [
            "/content/rodinia-gpu/cuda/bfs\n",
            "/usr/local/cuda/bin/nvcc bfs.cu -o bfs -I/usr/local/cuda/include -L/usr/local/cuda/lib64 \n",
            "Reading File\n",
            "Read File\n",
            "==1562== NVPROF is profiling process 1562, command: ./bfs ../../data/bfs/graph1MW_6.txt\n",
            "Copied Everything to GPU memory\n",
            "Start traversing the tree\n",
            "Kernel Executed 12 times\n",
            "Result stored in result.txt\n",
            "==1562== Profiling application: ./bfs ../../data/bfs/graph1MW_6.txt\n",
            "==1562== Profiling result:\n",
            "            Type  Time(%)      Time     Calls       Avg       Min       Max  Name\n",
            " GPU activities:   64.75%  7.5863ms        18  421.46us  1.3760us  5.0135ms  [CUDA memcpy HtoD]\n",
            "                   26.28%  3.0793ms        12  256.61us  36.384us  1.1349ms  Kernel(Node*, int*, bool*, bool*, bool*, int*, int)\n",
            "                    5.02%  588.44us        13  45.264us  1.6640us  567.25us  [CUDA memcpy DtoH]\n",
            "                    3.94%  461.43us        12  38.452us  31.743us  46.463us  Kernel2(bool*, bool*, bool*, bool*, int)\n",
            "      API calls:   95.26%  315.28ms         7  45.040ms  8.7040us  314.63ms  cudaMalloc\n",
            "                    3.97%  13.143ms        31  423.97us  3.4520us  5.1713ms  cudaMemcpy\n",
            "                    0.54%  1.8035ms         6  300.59us  3.5960us  1.0619ms  cudaFree\n",
            "                    0.11%  374.80us         1  374.80us  374.80us  374.80us  cuDeviceTotalMem\n",
            "                    0.05%  167.26us       101  1.6560us     137ns  71.471us  cuDeviceGetAttribute\n",
            "                    0.04%  138.00us        24  5.7490us  3.6210us  25.344us  cudaLaunchKernel\n",
            "                    0.01%  32.134us         1  32.134us  32.134us  32.134us  cuDeviceGetName\n",
            "                    0.00%  11.493us         3  3.8310us     190ns  10.355us  cuDeviceGetCount\n",
            "                    0.00%  6.6060us         1  6.6060us  6.6060us  6.6060us  cuDeviceGetPCIBusId\n",
            "                    0.00%  1.5000us         2     750ns     519ns     981ns  cuDeviceGet\n",
            "                    0.00%     252ns         1     252ns     252ns     252ns  cuDeviceGetUuid\n"
          ]
        }
      ]
    },
    {
      "cell_type": "code",
      "source": [
        "%cd /content/rodinia-gpu/openmp/bfs\n",
        "!make\n",
        "!./run"
      ],
      "metadata": {
        "colab": {
          "base_uri": "https://localhost:8080/"
        },
        "id": "uOf5x-IHio49",
        "outputId": "b24b7531-c591-4e75-e8ef-23539489ab0d"
      },
      "execution_count": 32,
      "outputs": [
        {
          "output_type": "stream",
          "name": "stdout",
          "text": [
            "/content/rodinia-gpu/openmp/bfs\n",
            "icc -g -fopenmp -O2 -DOMP_OFFLOAD bfs.cpp -o bfs_offload\n",
            "make: icc: Command not found\n",
            "Makefile:12: recipe for target 'bfs_offload' failed\n",
            "make: *** [bfs_offload] Error 127\n",
            "Reading File\n",
            "Start traversing the tree\n",
            "Compute time: 0.064479\n",
            "Result stored in result.txt\n"
          ]
        }
      ]
    },
    {
      "cell_type": "markdown",
      "source": [
        "Application: PathFinder\n",
        "Dwarf: Dynamic Programming"
      ],
      "metadata": {
        "id": "Ab0dWOs8sUA-"
      }
    },
    {
      "cell_type": "code",
      "source": [
        "%cd /content/rodinia-gpu/cuda/pathfinder/\n",
        "!make\n",
        "!./run\n",
        "!nvprof --profile-child-processes  ./run"
      ],
      "metadata": {
        "colab": {
          "base_uri": "https://localhost:8080/"
        },
        "id": "IV4SgbI3saAx",
        "outputId": "1b3b0464-6eef-4e3d-84ba-104a4c1ccbcc"
      },
      "execution_count": 36,
      "outputs": [
        {
          "output_type": "stream",
          "name": "stdout",
          "text": [
            "/content/rodinia-gpu/cuda/pathfinder\n",
            "/usr/local/cuda/bin/nvcc pathfinder.cu -o pathfinder -I/usr/local/cuda/include -L/usr/local/cuda/lib64 \n",
            "==1852== NVPROF is profiling process 1852, command: ./pathfinder 100000 100 20\n",
            "==1852== Profiling application: ./pathfinder 100000 100 20\n",
            "==1852== Profiling result:\n",
            "            Type  Time(%)      Time     Calls       Avg       Min       Max  Name\n",
            " GPU activities:   95.08%  8.2998ms         2  4.1499ms  35.935us  8.2638ms  [CUDA memcpy HtoD]\n",
            "                    4.54%  396.73us         5  79.345us  77.054us  80.542us  dynproc_kernel(int, int*, int*, int*, int, int, int, int)\n",
            "                    0.38%  32.928us         1  32.928us  32.928us  32.928us  [CUDA memcpy DtoH]\n",
            "      API calls:   96.49%  305.95ms         3  101.98ms  4.6800us  305.78ms  cudaMalloc\n",
            "                    2.93%  9.3028ms         3  3.1009ms  106.44us  8.4554ms  cudaMemcpy\n",
            "                    0.40%  1.2529ms         3  417.63us  6.8820us  1.0748ms  cudaFree\n",
            "                    0.11%  342.22us         1  342.22us  342.22us  342.22us  cuDeviceTotalMem\n",
            "                    0.05%  151.68us       101  1.5010us     138ns  63.939us  cuDeviceGetAttribute\n",
            "                    0.02%  53.685us         5  10.737us  4.2840us  32.537us  cudaLaunchKernel\n",
            "                    0.01%  26.456us         1  26.456us  26.456us  26.456us  cuDeviceGetName\n",
            "                    0.00%  7.6060us         1  7.6060us  7.6060us  7.6060us  cuDeviceGetPCIBusId\n",
            "                    0.00%  1.8530us         3     617ns     234ns  1.2690us  cuDeviceGetCount\n",
            "                    0.00%  1.1370us         2     568ns     190ns     947ns  cuDeviceGet\n",
            "                    0.00%     685ns         1     685ns     685ns     685ns  cudaGetDeviceCount\n",
            "                    0.00%     349ns         1     349ns     349ns     349ns  cuDeviceGetUuid\n"
          ]
        }
      ]
    },
    {
      "cell_type": "code",
      "source": [
        "%cd /content/rodinia-gpu/openmp/pathfinder/\n",
        "!make\n",
        "%time !./run"
      ],
      "metadata": {
        "colab": {
          "base_uri": "https://localhost:8080/"
        },
        "id": "VtZVYEbatiOh",
        "outputId": "b26e08d6-4bcf-45db-bac0-1ba38a9db83d"
      },
      "execution_count": 39,
      "outputs": [
        {
          "output_type": "stream",
          "name": "stdout",
          "text": [
            "/content/rodinia-gpu/openmp/pathfinder\n",
            "g++ pathfinder.cpp -fopenmp -o pathfinder\n",
            "CPU times: user 7.72 ms, sys: 8.35 ms, total: 16.1 ms\n",
            "Wall time: 920 ms\n"
          ]
        }
      ]
    }
  ]
}
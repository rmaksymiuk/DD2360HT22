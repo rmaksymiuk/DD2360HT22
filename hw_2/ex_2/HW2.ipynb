{
  "nbformat": 4,
  "nbformat_minor": 0,
  "metadata": {
    "colab": {
      "provenance": []
    },
    "kernelspec": {
      "name": "python3",
      "display_name": "Python 3"
    },
    "language_info": {
      "name": "python"
    },
    "accelerator": "GPU",
    "gpuClass": "standard"
  },
  "cells": [
    {
      "cell_type": "code",
      "execution_count": null,
      "metadata": {
        "colab": {
          "base_uri": "https://localhost:8080/"
        },
        "id": "nGDRnkl3GVUY",
        "outputId": "75e8788e-28f3-41eb-f517-ace62359cfc0"
      },
      "outputs": [
        {
          "output_type": "stream",
          "name": "stdout",
          "text": [
            "nvcc: NVIDIA (R) Cuda compiler driver\n",
            "Copyright (c) 2005-2021 NVIDIA Corporation\n",
            "Built on Sun_Feb_14_21:12:58_PST_2021\n",
            "Cuda compilation tools, release 11.2, V11.2.152\n",
            "Build cuda_11.2.r11.2/compiler.29618528_0\n",
            "Thu Nov 24 15:28:13 2022       \n",
            "+-----------------------------------------------------------------------------+\n",
            "| NVIDIA-SMI 460.32.03    Driver Version: 460.32.03    CUDA Version: 11.2     |\n",
            "|-------------------------------+----------------------+----------------------+\n",
            "| GPU  Name        Persistence-M| Bus-Id        Disp.A | Volatile Uncorr. ECC |\n",
            "| Fan  Temp  Perf  Pwr:Usage/Cap|         Memory-Usage | GPU-Util  Compute M. |\n",
            "|                               |                      |               MIG M. |\n",
            "|===============================+======================+======================|\n",
            "|   0  Tesla T4            Off  | 00000000:00:04.0 Off |                    0 |\n",
            "| N/A   63C    P8    12W /  70W |      0MiB / 15109MiB |      0%      Default |\n",
            "|                               |                      |                  N/A |\n",
            "+-------------------------------+----------------------+----------------------+\n",
            "                                                                               \n",
            "+-----------------------------------------------------------------------------+\n",
            "| Processes:                                                                  |\n",
            "|  GPU   GI   CI        PID   Type   Process name                  GPU Memory |\n",
            "|        ID   ID                                                   Usage      |\n",
            "|=============================================================================|\n",
            "|  No running processes found                                                 |\n",
            "+-----------------------------------------------------------------------------+\n"
          ]
        }
      ],
      "source": [
        "!nvcc --version\n",
        "!nvidia-smi"
      ]
    },
    {
      "cell_type": "code",
      "source": [
        "!ls /usr/local/cuda*"
      ],
      "metadata": {
        "colab": {
          "base_uri": "https://localhost:8080/"
        },
        "id": "zqnMKrG2Ku4I",
        "outputId": "e279ea85-819b-4276-e00e-f46c22c6f698"
      },
      "execution_count": null,
      "outputs": [
        {
          "output_type": "stream",
          "name": "stdout",
          "text": [
            "/usr/local/cuda:\n",
            "bin\t\t   EULA.txt  libnvvp\t       nvvm-prev  src\n",
            "compat\t\t   extras    nsightee_plugins  README\t  targets\n",
            "compute-sanitizer  include   nvml\t       samples\t  tools\n",
            "DOCS\t\t   lib64     nvvm\t       share\t  version.json\n",
            "\n",
            "/usr/local/cuda-11:\n",
            "bin\t\t   EULA.txt  libnvvp\t       nvvm-prev  src\n",
            "compat\t\t   extras    nsightee_plugins  README\t  targets\n",
            "compute-sanitizer  include   nvml\t       samples\t  tools\n",
            "DOCS\t\t   lib64     nvvm\t       share\t  version.json\n",
            "\n",
            "/usr/local/cuda-11.2:\n",
            "bin\t\t   EULA.txt  libnvvp\t       nvvm-prev  src\n",
            "compat\t\t   extras    nsightee_plugins  README\t  targets\n",
            "compute-sanitizer  include   nvml\t       samples\t  tools\n",
            "DOCS\t\t   lib64     nvvm\t       share\t  version.json\n"
          ]
        }
      ]
    },
    {
      "cell_type": "code",
      "source": [
        "!ls /usr/local/cuda-11/bin/*"
      ],
      "metadata": {
        "colab": {
          "base_uri": "https://localhost:8080/"
        },
        "id": "WeLYv4MzO6Jy",
        "outputId": "e3c6d269-eba4-4f28-d6d9-e61eea4ea3b7"
      },
      "execution_count": null,
      "outputs": [
        {
          "output_type": "stream",
          "name": "stdout",
          "text": [
            "/usr/local/cuda-11/bin/bin2c\n",
            "/usr/local/cuda-11/bin/computeprof\n",
            "/usr/local/cuda-11/bin/compute-sanitizer\n",
            "/usr/local/cuda-11/bin/cudafe++\n",
            "/usr/local/cuda-11/bin/cuda-gdb\n",
            "/usr/local/cuda-11/bin/cuda-gdbserver\n",
            "/usr/local/cuda-11/bin/cuda-install-samples-11.2.sh\n",
            "/usr/local/cuda-11/bin/cuda-memcheck\n",
            "/usr/local/cuda-11/bin/cu++filt\n",
            "/usr/local/cuda-11/bin/cuobjdump\n",
            "/usr/local/cuda-11/bin/fatbinary\n",
            "/usr/local/cuda-11/bin/ncu\n",
            "/usr/local/cuda-11/bin/ncu-ui\n",
            "/usr/local/cuda-11/bin/nsight_ee_plugins_manage.sh\n",
            "/usr/local/cuda-11/bin/nsight-sys\n",
            "/usr/local/cuda-11/bin/nsys\n",
            "/usr/local/cuda-11/bin/nsys-exporter\n",
            "/usr/local/cuda-11/bin/nsys-ui\n",
            "/usr/local/cuda-11/bin/nvcc\n",
            "/usr/local/cuda-11/bin/nvcc.profile\n",
            "/usr/local/cuda-11/bin/nvdisasm\n",
            "/usr/local/cuda-11/bin/nvlink\n",
            "/usr/local/cuda-11/bin/nv-nsight-cu\n",
            "/usr/local/cuda-11/bin/nv-nsight-cu-cli\n",
            "/usr/local/cuda-11/bin/nvprof\n",
            "/usr/local/cuda-11/bin/nvprune\n",
            "/usr/local/cuda-11/bin/nvvp\n",
            "/usr/local/cuda-11/bin/ptxas\n",
            "\n",
            "/usr/local/cuda-11/bin/crt:\n",
            "link.stub  prelink.stub\n"
          ]
        }
      ]
    },
    {
      "cell_type": "code",
      "source": [
        "!ls /usr/local/cuda-11/samples/*"
      ],
      "metadata": {
        "colab": {
          "base_uri": "https://localhost:8080/"
        },
        "id": "0spVi8bQPAZ8",
        "outputId": "91314264-e57b-490b-d52c-e1ed87943906"
      },
      "execution_count": null,
      "outputs": [
        {
          "output_type": "stream",
          "name": "stdout",
          "text": [
            "/usr/local/cuda-11/samples/EULA.txt  /usr/local/cuda-11/samples/Makefile\n",
            "\n",
            "/usr/local/cuda-11/samples/0_Simple:\n",
            "asyncAPI\t\t      simpleCudaGraphs\n",
            "bf16TensorCoreGemm\t      simpleDrvRuntime\n",
            "binaryPartitionCG\t      simpleIPC\n",
            "cdpSimplePrint\t\t      simpleLayeredTexture\n",
            "cdpSimpleQuicksort\t      simpleMPI\n",
            "clock\t\t\t      simpleMultiCopy\n",
            "clock_nvrtc\t\t      simpleMultiGPU\n",
            "cppIntegration\t\t      simpleOccupancy\n",
            "cppOverload\t\t      simpleP2P\n",
            "cudaNvSci\t\t      simplePitchLinearTexture\n",
            "cudaOpenMP\t\t      simplePrintf\n",
            "cudaTensorCoreGemm\t      simpleSeparateCompilation\n",
            "dmmaTensorCoreGemm\t      simpleStreams\n",
            "fp16ScalarProduct\t      simpleSurfaceWrite\n",
            "globalToShmemAsyncCopy\t      simpleTemplates\n",
            "immaTensorCoreGemm\t      simpleTemplates_nvrtc\n",
            "inlinePTX\t\t      simpleTexture\n",
            "inlinePTX_nvrtc\t\t      simpleTextureDrv\n",
            "matrixMul\t\t      simpleVoteIntrinsics\n",
            "matrixMulCUBLAS\t\t      simpleVoteIntrinsics_nvrtc\n",
            "matrixMulDrv\t\t      simpleZeroCopy\n",
            "matrixMul_nvrtc\t\t      streamOrderedAllocation\n",
            "memMapIPCDrv\t\t      streamOrderedAllocationP2P\n",
            "simpleAssert\t\t      systemWideAtomics\n",
            "simpleAssert_nvrtc\t      template\n",
            "simpleAtomicIntrinsics\t      tf32TensorCoreGemm\n",
            "simpleAtomicIntrinsics_nvrtc  UnifiedMemoryStreams\n",
            "simpleAttributes\t      vectorAdd\n",
            "simpleAWBarrier\t\t      vectorAddDrv\n",
            "simpleCallback\t\t      vectorAddMMAP\n",
            "simpleCooperativeGroups       vectorAdd_nvrtc\n",
            "simpleCubemapTexture\n",
            "\n",
            "/usr/local/cuda-11/samples/1_Utilities:\n",
            "bandwidthTest  deviceQueryDrv\t\ttopologyQuery\n",
            "deviceQuery    p2pBandwidthLatencyTest\tUnifiedMemoryPerf\n",
            "\n",
            "/usr/local/cuda-11/samples/2_Graphics:\n",
            "bindlessTexture  simpleGL\t       simpleGLES_screen  simpleVulkanMMAP\n",
            "Mandelbrot\t simpleGLES\t       simpleTexture3D\t  volumeFiltering\n",
            "marchingCubes\t simpleGLES_EGLOutput  simpleVulkan\t  volumeRender\n",
            "\n",
            "/usr/local/cuda-11/samples/3_Imaging:\n",
            "bicubicTexture\t      dxtc\t\t\t postProcessGL\n",
            "bilateralFilter       EGLStream_CUDA_CrossGPU\t recursiveGaussian\n",
            "boxFilter\t      EGLStreams_CUDA_Interop\t simpleCUDA2GL\n",
            "convolutionFFT2D      EGLSync_CUDAEvent_Interop  SobelFilter\n",
            "convolutionSeparable  histogram\t\t\t stereoDisparity\n",
            "convolutionTexture    HSOpticalFlow\t\t vulkanImageCUDA\n",
            "dct8x8\t\t      imageDenoising\n",
            "dwtHaar1D\t      NV12toBGRandResize\n",
            "\n",
            "/usr/local/cuda-11/samples/4_Finance:\n",
            "binomialOptions        BlackScholes_nvrtc    quasirandomGenerator_nvrtc\n",
            "binomialOptions_nvrtc  MonteCarloMultiGPU    SobolQRNG\n",
            "BlackScholes\t       quasirandomGenerator\n",
            "\n",
            "/usr/local/cuda-11/samples/5_Simulations:\n",
            "fluidsGL    nbody\t    nbody_screen  particles\n",
            "fluidsGLES  nbody_opengles  oceanFFT\t  smokeParticles\n",
            "\n",
            "/usr/local/cuda-11/samples/6_Advanced:\n",
            "alignedTypes\t\t\tFunctionPointers       scan\n",
            "c++11_cuda\t\t\tinterval\t       segmentationTreeThrust\n",
            "cdpAdvancedQuicksort\t\tjacobiCudaGraphs       shfl_scan\n",
            "cdpBezierTessellation\t\tlineOfSight\t       simpleHyperQ\n",
            "cdpQuadtree\t\t\tmatrixMulDynlinkJIT    sortingNetworks\n",
            "concurrentKernels\t\tmergeSort\t       StreamPriorities\n",
            "conjugateGradientMultiBlockCG\tnewdelete\t       threadFenceReduction\n",
            "conjugateGradientMultiDeviceCG\tptxjit\t\t       threadMigration\n",
            "cudaCompressibleMemory\t\tradixSortThrust        transpose\n",
            "eigenvalues\t\t\treduction\t       warpAggregatedAtomicsCG\n",
            "fastWalshTransform\t\treductionMultiBlockCG\n",
            "FDTD3d\t\t\t\tscalarProd\n",
            "\n",
            "/usr/local/cuda-11/samples/7_CUDALibraries:\n",
            "batchCUBLAS\t\t\t\t   histEqualizationNPP\n",
            "batchedLabelMarkersAndLabelCompressionNPP  MC_EstimatePiInlineP\n",
            "boundSegmentsNPP\t\t\t   MC_EstimatePiInlineQ\n",
            "boxFilterNPP\t\t\t\t   MC_EstimatePiP\n",
            "cannyEdgeDetectorNPP\t\t\t   MC_EstimatePiQ\n",
            "common\t\t\t\t\t   MC_SingleAsianOptionP\n",
            "conjugateGradient\t\t\t   MersenneTwisterGP11213\n",
            "conjugateGradientCudaGraphs\t\t   nvJPEG\n",
            "conjugateGradientPrecond\t\t   nvJPEG_encoder\n",
            "conjugateGradientUM\t\t\t   randomFog\n",
            "cuHook\t\t\t\t\t   simpleCUBLAS\n",
            "cuSolverDn_LinearSolver\t\t\t   simpleCUBLASXT\n",
            "cuSolverRf\t\t\t\t   simpleCUFFT\n",
            "cuSolverSp_LinearSolver\t\t\t   simpleCUFFT_2d_MGPU\n",
            "cuSolverSp_LowlevelCholesky\t\t   simpleCUFFT_callback\n",
            "cuSolverSp_LowlevelQR\t\t\t   simpleCUFFT_MGPU\n",
            "FilterBorderControlNPP\t\t\t   watershedSegmentationNPP\n",
            "freeImageInteropNPP\n",
            "\n",
            "/usr/local/cuda-11/samples/common:\n",
            "data  findgllib.mk  inc  lib  src\n"
          ]
        }
      ]
    },
    {
      "cell_type": "code",
      "source": [
        "!cp -rf /usr/local/cuda-11/samples/1_Utilities/deviceQuery ./deviceQuery"
      ],
      "metadata": {
        "id": "gOGHHop0P18i"
      },
      "execution_count": null,
      "outputs": []
    },
    {
      "cell_type": "code",
      "source": [
        "!ls deviceQuery\n",
        "!nvcc -I/usr/local/cuda-11/samples/common/inc deviceQuery/deviceQuery.cpp -o deviceQuery/deviceQuery"
      ],
      "metadata": {
        "colab": {
          "base_uri": "https://localhost:8080/"
        },
        "id": "tMiiCSsaP2FR",
        "outputId": "daf5e060-eb16-4ba8-9c1a-7df4f90251e6"
      },
      "execution_count": null,
      "outputs": [
        {
          "output_type": "stream",
          "name": "stdout",
          "text": [
            "deviceQuery.cpp  Makefile  NsightEclipse.xml  readme.txt\n"
          ]
        }
      ]
    },
    {
      "cell_type": "code",
      "source": [
        "!ls ./deviceQuery"
      ],
      "metadata": {
        "colab": {
          "base_uri": "https://localhost:8080/"
        },
        "id": "sW5QXpa_P_A7",
        "outputId": "b54f35f8-d1da-4b94-a793-148823e9ab07"
      },
      "execution_count": null,
      "outputs": [
        {
          "output_type": "stream",
          "name": "stdout",
          "text": [
            "deviceQuery  deviceQuery.cpp  Makefile\tNsightEclipse.xml  readme.txt\n"
          ]
        }
      ]
    },
    {
      "cell_type": "code",
      "source": [
        "!./deviceQuery/deviceQuery "
      ],
      "metadata": {
        "colab": {
          "base_uri": "https://localhost:8080/"
        },
        "id": "NX_p_GniP_Ej",
        "outputId": "e19614b5-8e2b-4b5f-d7d1-163444ffd2c1"
      },
      "execution_count": null,
      "outputs": [
        {
          "output_type": "stream",
          "name": "stdout",
          "text": [
            "./deviceQuery/deviceQuery Starting...\n",
            "\n",
            " CUDA Device Query (Runtime API) version (CUDART static linking)\n",
            "\n",
            "Detected 1 CUDA Capable device(s)\n",
            "\n",
            "Device 0: \"Tesla T4\"\n",
            "  CUDA Driver Version / Runtime Version          11.2 / 11.2\n",
            "  CUDA Capability Major/Minor version number:    7.5\n",
            "  Total amount of global memory:                 15110 MBytes (15843721216 bytes)\n",
            "  (40) Multiprocessors, ( 64) CUDA Cores/MP:     2560 CUDA Cores\n",
            "  GPU Max Clock rate:                            1590 MHz (1.59 GHz)\n",
            "  Memory Clock rate:                             5001 Mhz\n",
            "  Memory Bus Width:                              256-bit\n",
            "  L2 Cache Size:                                 4194304 bytes\n",
            "  Maximum Texture Dimension Size (x,y,z)         1D=(131072), 2D=(131072, 65536), 3D=(16384, 16384, 16384)\n",
            "  Maximum Layered 1D Texture Size, (num) layers  1D=(32768), 2048 layers\n",
            "  Maximum Layered 2D Texture Size, (num) layers  2D=(32768, 32768), 2048 layers\n",
            "  Total amount of constant memory:               65536 bytes\n",
            "  Total amount of shared memory per block:       49152 bytes\n",
            "  Total shared memory per multiprocessor:        65536 bytes\n",
            "  Total number of registers available per block: 65536\n",
            "  Warp size:                                     32\n",
            "  Maximum number of threads per multiprocessor:  1024\n",
            "  Maximum number of threads per block:           1024\n",
            "  Max dimension size of a thread block (x,y,z): (1024, 1024, 64)\n",
            "  Max dimension size of a grid size    (x,y,z): (2147483647, 65535, 65535)\n",
            "  Maximum memory pitch:                          2147483647 bytes\n",
            "  Texture alignment:                             512 bytes\n",
            "  Concurrent copy and kernel execution:          Yes with 3 copy engine(s)\n",
            "  Run time limit on kernels:                     No\n",
            "  Integrated GPU sharing Host Memory:            No\n",
            "  Support host page-locked memory mapping:       Yes\n",
            "  Alignment requirement for Surfaces:            Yes\n",
            "  Device has ECC support:                        Enabled\n",
            "  Device supports Unified Addressing (UVA):      Yes\n",
            "  Device supports Managed Memory:                Yes\n",
            "  Device supports Compute Preemption:            Yes\n",
            "  Supports Cooperative Kernel Launch:            Yes\n",
            "  Supports MultiDevice Co-op Kernel Launch:      Yes\n",
            "  Device PCI Domain ID / Bus ID / location ID:   0 / 0 / 4\n",
            "  Compute Mode:\n",
            "     < Default (multiple host threads can use ::cudaSetDevice() with device simultaneously) >\n",
            "\n",
            "deviceQuery, CUDA Driver = CUDART, CUDA Driver Version = 11.2, CUDA Runtime Version = 11.2, NumDevs = 1\n",
            "Result = PASS\n"
          ]
        }
      ]
    }
  ]
}